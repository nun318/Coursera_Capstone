{
  "nbformat": 4,
  "nbformat_minor": 0,
  "metadata": {
    "colab": {
      "name": "Jupiter Notebook.ipynb",
      "provenance": []
    },
    "kernelspec": {
      "name": "python3",
      "display_name": "Python 3"
    }
  },
  "cells": [
    {
      "cell_type": "markdown",
      "metadata": {
        "id": "1RNFJOBvAldS",
        "colab_type": "text"
      },
      "source": [
        "# My Jupyter Notebook on IBM Watson Studio"
      ]
    },
    {
      "cell_type": "markdown",
      "metadata": {
        "id": "r0cY1Pu8Ance",
        "colab_type": "text"
      },
      "source": [
        "**Yanyan Yang**\\\n",
        "Data Scientist"
      ]
    },
    {
      "cell_type": "markdown",
      "metadata": {
        "id": "g4U_SAQ6A9Jg",
        "colab_type": "text"
      },
      "source": [
        "*I am interested in Data Science because I enjoy discovering stories behind the data.*"
      ]
    },
    {
      "cell_type": "markdown",
      "metadata": {
        "id": "yVdLU_O2BY-K",
        "colab_type": "text"
      },
      "source": [
        "###Sum of 1+1"
      ]
    },
    {
      "cell_type": "code",
      "metadata": {
        "id": "SPasW4n1BhWx",
        "colab_type": "code",
        "colab": {}
      },
      "source": [
        "1+1"
      ],
      "execution_count": null,
      "outputs": []
    },
    {
      "cell_type": "markdown",
      "metadata": {
        "id": "zXTMsujNBe95",
        "colab_type": "text"
      },
      "source": [
        "[Google](https://www.google.com)\n",
        "\n",
        "*   Introduction\n",
        "*   Literature Review\n",
        "\n",
        "\n",
        "![alt text](https://image.cnbcfm.com/api/v1/image/105374938-153331008358901-heroshot.jpg?v=1533310132&w=1400&h=950)\n",
        "\n",
        "\n",
        "\n"
      ]
    }
  ]
}