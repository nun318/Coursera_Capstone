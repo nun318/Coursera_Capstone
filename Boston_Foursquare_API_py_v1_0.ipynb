{
  "nbformat": 4,
  "nbformat_minor": 0,
  "metadata": {
    "kernelspec": {
      "display_name": "Python 3",
      "language": "python",
      "name": "python3"
    },
    "language_info": {
      "codemirror_mode": {
        "name": "ipython",
        "version": 3
      },
      "file_extension": ".py",
      "mimetype": "text/x-python",
      "name": "python",
      "nbconvert_exporter": "python",
      "pygments_lexer": "ipython3",
      "version": "3.6.5"
    },
    "colab": {
      "name": "Boston-Foursquare-API-py-v1.0.ipynb",
      "provenance": [],
      "include_colab_link": true
    }
  },
  "cells": [
    {
      "cell_type": "markdown",
      "metadata": {
        "id": "view-in-github",
        "colab_type": "text"
      },
      "source": [
        "<a href=\"https://colab.research.google.com/github/nun318/Coursera_Capstone/blob/master/Boston_Foursquare_API_py_v1_0.ipynb\" target=\"_parent\"><img src=\"https://colab.research.google.com/assets/colab-badge.svg\" alt=\"Open In Colab\"/></a>"
      ]
    },
    {
      "cell_type": "markdown",
      "metadata": {
        "button": false,
        "deletable": true,
        "new_sheet": false,
        "run_control": {
          "read_only": false
        },
        "id": "r4FO07VWlC2X",
        "colab_type": "text"
      },
      "source": [
        "   "
      ]
    },
    {
      "cell_type": "markdown",
      "metadata": {
        "button": false,
        "deletable": true,
        "new_sheet": false,
        "run_control": {
          "read_only": false
        },
        "id": "yJ6H2pJFlC2a",
        "colab_type": "text"
      },
      "source": [
        "## Introduction\n",
        "\n",
        "In this project I will try to find an optimal location for a coffeeshop in Boston. Since there are lots of coffeeshops in Boston I will try to detect locations that are not already crowded with coffeeshops. I am also particularly interested in areas with Universities and shopping malls. generate a few most promissing neighborhoods based on this criteria. Advantages of each area will then be clearly expressed so that best possible final location can be chosen by stakeholders."
      ]
    },
    {
      "cell_type": "markdown",
      "metadata": {
        "id": "do0Dr3QYxGL7",
        "colab_type": "text"
      },
      "source": [
        "## *Data*\n",
        "Based on definition of our problem, factors that will influence our decission are: number of existing coffeeshops in the neighborhood  number of and distance to Universities and Shopping Malls in the neighborhood, if any distance of neighborhood from city center. The number of coffeeshops and their type and location in every neighborhood will be obtained using Foursquare API coordinate of Boston center will be obtained using Google Maps API."
      ]
    },
    {
      "cell_type": "markdown",
      "metadata": {
        "button": false,
        "deletable": true,
        "new_sheet": false,
        "run_control": {
          "read_only": false
        },
        "id": "KofzKixNlC2d",
        "colab_type": "text"
      },
      "source": [
        "## Table of Contents\n",
        "\n",
        "1. <a href=\"#item1\">Introduction</a>\n",
        "2. <a href=\"#item2\">Data</a>  \n",
        "3. <a href=\"#item3\">EDA</a>  \n",
        "4. <a href=\"#item4\">Models</a>  \n",
        "5. <a href=\"#item5\">Results</a>  "
      ]
    },
    {
      "cell_type": "markdown",
      "metadata": {
        "button": false,
        "deletable": true,
        "new_sheet": false,
        "run_control": {
          "read_only": false
        },
        "id": "JBkcgMA8lC2e",
        "colab_type": "text"
      },
      "source": [
        "### Import necessary Libraries"
      ]
    },
    {
      "cell_type": "code",
      "metadata": {
        "button": false,
        "deletable": true,
        "new_sheet": false,
        "run_control": {
          "read_only": false
        },
        "id": "dw3t034IlC2h",
        "colab_type": "code",
        "colab": {
          "base_uri": "https://localhost:8080/",
          "height": 85
        },
        "outputId": "18cf93bc-f2f3-4894-c983-11e3fe76b761"
      },
      "source": [
        "import requests # library to handle requests\n",
        "import pandas as pd # library for data analsysis\n",
        "import numpy as np # library to handle data in a vectorized manner\n",
        "import random # library for random number generation\n",
        "\n",
        "!conda install -c conda-forge geopy --yes \n",
        "from geopy.geocoders import Nominatim # module to convert an address into latitude and longitude values\n",
        "\n",
        "# libraries for displaying images\n",
        "from IPython.display import Image \n",
        "from IPython.core.display import HTML \n",
        "    \n",
        "# tranforming json file into a pandas dataframe library\n",
        "from pandas.io.json import json_normalize\n",
        "\n",
        "!conda install -c conda-forge folium=0.5.0 --yes\n",
        "import folium # plotting library\n",
        "\n",
        "print('Folium installed')\n",
        "print('Libraries imported.')"
      ],
      "execution_count": 4,
      "outputs": [
        {
          "output_type": "stream",
          "text": [
            "/bin/bash: conda: command not found\n",
            "/bin/bash: conda: command not found\n",
            "Folium installed\n",
            "Libraries imported.\n"
          ],
          "name": "stdout"
        }
      ]
    },
    {
      "cell_type": "markdown",
      "metadata": {
        "button": false,
        "deletable": true,
        "new_sheet": false,
        "run_control": {
          "read_only": false
        },
        "id": "0qvYrZ_flC2z",
        "colab_type": "text"
      },
      "source": [
        "### Define Foursquare Credentials and Version"
      ]
    },
    {
      "cell_type": "markdown",
      "metadata": {
        "button": false,
        "deletable": true,
        "new_sheet": false,
        "run_control": {
          "read_only": false
        },
        "id": "nzqts5YJlC23",
        "colab_type": "text"
      },
      "source": [
        "##### Make sure that you have created a Foursquare developer account and have your credentials handy"
      ]
    },
    {
      "cell_type": "code",
      "metadata": {
        "id": "8zujGZDIAx2j",
        "colab_type": "code",
        "colab": {}
      },
      "source": [
        "#CLIENT ID\n",
        "\n",
        "#3RWFKNJMVKQX035E1ETMWG4TP1EDN1ODJJLGXECYG0OY1YDO\n",
        "\n",
        "#CLIENT SECRET\n",
        "\n",
        "#5WBQS5BQO5D5HQKACC3UT123NXJAQGRE0NC5ZS2WNHHRSOU1"
      ],
      "execution_count": 5,
      "outputs": []
    },
    {
      "cell_type": "code",
      "metadata": {
        "button": false,
        "deletable": true,
        "new_sheet": false,
        "run_control": {
          "read_only": false
        },
        "id": "Pj1826K8lC25",
        "colab_type": "code",
        "colab": {
          "base_uri": "https://localhost:8080/",
          "height": 68
        },
        "outputId": "0308b7cd-58d1-4e57-8dea-782b84fb7585"
      },
      "source": [
        "CLIENT_ID = '3RWFKNJMVKQX035E1ETMWG4TP1EDN1ODJJLGXECYG0OY1YDO' # your Foursquare ID\n",
        "CLIENT_SECRET = '5WBQS5BQO5D5HQKACC3UT123NXJAQGRE0NC5ZS2WNHHRSOU1' # your Foursquare Secret\n",
        "VERSION = '20180604'\n",
        "LIMIT = 30\n",
        "print('Your credentails:')\n",
        "print('CLIENT_ID: ' + CLIENT_ID)\n",
        "print('CLIENT_SECRET:' + CLIENT_SECRET)"
      ],
      "execution_count": 6,
      "outputs": [
        {
          "output_type": "stream",
          "text": [
            "Your credentails:\n",
            "CLIENT_ID: 3RWFKNJMVKQX035E1ETMWG4TP1EDN1ODJJLGXECYG0OY1YDO\n",
            "CLIENT_SECRET:5WBQS5BQO5D5HQKACC3UT123NXJAQGRE0NC5ZS2WNHHRSOU1\n"
          ],
          "name": "stdout"
        }
      ]
    },
    {
      "cell_type": "markdown",
      "metadata": {
        "button": false,
        "deletable": true,
        "new_sheet": false,
        "run_control": {
          "read_only": false
        },
        "id": "nB-FHr0glC3C",
        "colab_type": "text"
      },
      "source": [
        "  "
      ]
    },
    {
      "cell_type": "markdown",
      "metadata": {
        "button": false,
        "deletable": true,
        "new_sheet": false,
        "run_control": {
          "read_only": false
        },
        "id": "udF6Yn5UlC3C",
        "colab_type": "text"
      },
      "source": [
        "#### Let's again assume that you are staying at the Conrad hotel. So let's start by converting the Contrad Hotel's address to its latitude and longitude coordinates."
      ]
    },
    {
      "cell_type": "markdown",
      "metadata": {
        "id": "rH0Ng5nylC3E",
        "colab_type": "text"
      },
      "source": [
        "In order to define an instance of the geocoder, we need to define a user_agent. We will name our agent <em>foursquare_agent</em>, as shown below."
      ]
    },
    {
      "cell_type": "code",
      "metadata": {
        "button": false,
        "deletable": true,
        "new_sheet": false,
        "run_control": {
          "read_only": false
        },
        "id": "aIlG5AHmlC3F",
        "colab_type": "code",
        "colab": {
          "base_uri": "https://localhost:8080/",
          "height": 34
        },
        "outputId": "ae497e9c-5484-4a56-c908-20463588da7e"
      },
      "source": [
        "address = 'Boston,MA'\n",
        "\n",
        "geolocator = Nominatim(user_agent=\"foursquare_agent\")\n",
        "location = geolocator.geocode(address)\n",
        "latitude = location.latitude\n",
        "longitude = location.longitude\n",
        "print(latitude, longitude)"
      ],
      "execution_count": 38,
      "outputs": [
        {
          "output_type": "stream",
          "text": [
            "42.3602534 -71.0582912\n"
          ],
          "name": "stdout"
        }
      ]
    },
    {
      "cell_type": "markdown",
      "metadata": {
        "button": false,
        "deletable": true,
        "new_sheet": false,
        "run_control": {
          "read_only": false
        },
        "id": "xonzNR_klC3K",
        "colab_type": "text"
      },
      "source": [
        "   "
      ]
    },
    {
      "cell_type": "markdown",
      "metadata": {
        "button": false,
        "deletable": true,
        "new_sheet": false,
        "run_control": {
          "read_only": false
        },
        "id": "wiag-GUXlC3L",
        "colab_type": "text"
      },
      "source": [
        "<a id=\"item1\"></a>"
      ]
    },
    {
      "cell_type": "markdown",
      "metadata": {
        "button": false,
        "deletable": true,
        "new_sheet": false,
        "run_control": {
          "read_only": false
        },
        "id": "euPJIwDRlC3L",
        "colab_type": "text"
      },
      "source": [
        "## 1. Search for a specific venue category\n",
        "> `https://api.foursquare.com/v2/venues/`**search**`?client_id=`**CLIENT_ID**`&client_secret=`**CLIENT_SECRET**`&ll=`**LATITUDE**`,`**LONGITUDE**`&v=`**VERSION**`&query=`**QUERY**`&radius=`**RADIUS**`&limit=`**LIMIT**"
      ]
    },
    {
      "cell_type": "markdown",
      "metadata": {
        "button": false,
        "deletable": true,
        "new_sheet": false,
        "run_control": {
          "read_only": false
        },
        "id": "I5aS5SP-lC3M",
        "colab_type": "text"
      },
      "source": [
        "#### Now, let's assume that it is lunch time, and you are craving Italian food. So, let's define a query to search for Italian food that is within 500 metres from the Conrad Hotel. "
      ]
    },
    {
      "cell_type": "code",
      "metadata": {
        "button": false,
        "deletable": true,
        "new_sheet": false,
        "run_control": {
          "read_only": false
        },
        "scrolled": true,
        "id": "kxuboxHvlC3O",
        "colab_type": "code",
        "colab": {
          "base_uri": "https://localhost:8080/",
          "height": 34
        },
        "outputId": "0b7b927c-1ace-44c2-a5fe-ccd51d1a109a"
      },
      "source": [
        "search_query = 'Coffee'\n",
        "radius = 500\n",
        "print(search_query + ' .... OK!')"
      ],
      "execution_count": 39,
      "outputs": [
        {
          "output_type": "stream",
          "text": [
            "Coffee .... OK!\n"
          ],
          "name": "stdout"
        }
      ]
    },
    {
      "cell_type": "markdown",
      "metadata": {
        "button": false,
        "deletable": true,
        "new_sheet": false,
        "run_control": {
          "read_only": false
        },
        "id": "Rbj6lp6olC3R",
        "colab_type": "text"
      },
      "source": [
        "#### Define the corresponding URL"
      ]
    },
    {
      "cell_type": "code",
      "metadata": {
        "button": false,
        "deletable": true,
        "new_sheet": false,
        "run_control": {
          "read_only": false
        },
        "id": "msiYZzU4lC3R",
        "colab_type": "code",
        "colab": {
          "base_uri": "https://localhost:8080/",
          "height": 37
        },
        "outputId": "1567ad58-15df-4452-dd4b-829028dabf39"
      },
      "source": [
        "url = 'https://api.foursquare.com/v2/venues/search?client_id={}&client_secret={}&ll={},{}&v={}&query={}&radius={}&limit={}'.format(CLIENT_ID, CLIENT_SECRET, latitude, longitude, VERSION, search_query, radius, LIMIT)\n",
        "url"
      ],
      "execution_count": 40,
      "outputs": [
        {
          "output_type": "execute_result",
          "data": {
            "application/vnd.google.colaboratory.intrinsic": {
              "type": "string"
            },
            "text/plain": [
              "'https://api.foursquare.com/v2/venues/search?client_id=3RWFKNJMVKQX035E1ETMWG4TP1EDN1ODJJLGXECYG0OY1YDO&client_secret=5WBQS5BQO5D5HQKACC3UT123NXJAQGRE0NC5ZS2WNHHRSOU1&ll=42.3602534,-71.0582912&v=20180604&query=Coffee&radius=500&limit=30'"
            ]
          },
          "metadata": {
            "tags": []
          },
          "execution_count": 40
        }
      ]
    },
    {
      "cell_type": "markdown",
      "metadata": {
        "button": false,
        "deletable": true,
        "new_sheet": false,
        "run_control": {
          "read_only": false
        },
        "id": "Wq00r6nslC3T",
        "colab_type": "text"
      },
      "source": [
        "#### Send the GET Request and examine the results"
      ]
    },
    {
      "cell_type": "code",
      "metadata": {
        "button": false,
        "deletable": true,
        "new_sheet": false,
        "run_control": {
          "read_only": false
        },
        "scrolled": true,
        "id": "M8W6-vNllC3U",
        "colab_type": "code",
        "colab": {
          "base_uri": "https://localhost:8080/",
          "height": 1000
        },
        "outputId": "3fc49005-b4c7-49c0-ff82-d9a2e6d3bb4e"
      },
      "source": [
        "results = requests.get(url).json()\n",
        "results"
      ],
      "execution_count": 41,
      "outputs": [
        {
          "output_type": "execute_result",
          "data": {
            "text/plain": [
              "{'meta': {'code': 200, 'requestId': '5f0c15a44c1ae841da48aa91'},\n",
              " 'response': {'venues': [{'categories': [{'icon': {'prefix': 'https://ss3.4sqi.net/img/categories_v2/shops/food_gourmet_',\n",
              "       'suffix': '.png'},\n",
              "      'id': '4bf58dd8d48988d1f5941735',\n",
              "      'name': 'Gourmet Shop',\n",
              "      'pluralName': 'Gourmet Shops',\n",
              "      'primary': True,\n",
              "      'shortName': 'Gourmet'}],\n",
              "    'hasPerk': False,\n",
              "    'id': '40b28c80f964a520d6f71ee3',\n",
              "    'location': {'address': '105 Salem St',\n",
              "     'cc': 'US',\n",
              "     'city': 'Boston',\n",
              "     'country': 'United States',\n",
              "     'crossStreet': 'at Parmenter St.',\n",
              "     'distance': 487,\n",
              "     'formattedAddress': ['105 Salem St (at Parmenter St.)',\n",
              "      'Boston, MA 02113',\n",
              "      'United States'],\n",
              "     'labeledLatLngs': [{'label': 'display',\n",
              "       'lat': 42.36412501908669,\n",
              "       'lng': -71.05551323715335},\n",
              "      {'label': 'entrance', 'lat': 42.364032, 'lng': -71.055541}],\n",
              "     'lat': 42.36412501908669,\n",
              "     'lng': -71.05551323715335,\n",
              "     'postalCode': '02113',\n",
              "     'state': 'MA'},\n",
              "    'name': \"Polcari's Coffee\",\n",
              "    'referralId': 'v-1594627697'},\n",
              "   {'categories': [{'icon': {'prefix': 'https://ss3.4sqi.net/img/categories_v2/food/breakfast_',\n",
              "       'suffix': '.png'},\n",
              "      'id': '4bf58dd8d48988d143941735',\n",
              "      'name': 'Breakfast Spot',\n",
              "      'pluralName': 'Breakfast Spots',\n",
              "      'primary': True,\n",
              "      'shortName': 'Breakfast'}],\n",
              "    'delivery': {'id': '1760359',\n",
              "     'provider': {'icon': {'name': '/delivery_provider_grubhub_20180129.png',\n",
              "       'prefix': 'https://fastly.4sqi.net/img/general/cap/',\n",
              "       'sizes': [40, 50]},\n",
              "      'name': 'grubhub'},\n",
              "     'url': 'https://www.grubhub.com/restaurant/capitol-coffee-house-122-bowdoin-street-boston/1760359?affiliate=1131&utm_source=foursquare-affiliate-network&utm_medium=affiliate&utm_campaign=1131&utm_content=1760359'},\n",
              "    'hasPerk': False,\n",
              "    'id': '4b61f993f964a520752e2ae3',\n",
              "    'location': {'address': '122 Bowdoin St',\n",
              "     'cc': 'US',\n",
              "     'city': 'Boston',\n",
              "     'country': 'United States',\n",
              "     'crossStreet': 'at Ashburton Pl.',\n",
              "     'distance': 395,\n",
              "     'formattedAddress': ['122 Bowdoin St (at Ashburton Pl.)',\n",
              "      'Boston, MA 02108',\n",
              "      'United States'],\n",
              "     'labeledLatLngs': [{'label': 'display',\n",
              "       'lat': 42.35914018730252,\n",
              "       'lng': -71.06286025757913},\n",
              "      {'label': 'entrance', 'lat': 42.35875, 'lng': -71.062564}],\n",
              "     'lat': 42.35914018730252,\n",
              "     'lng': -71.06286025757913,\n",
              "     'postalCode': '02108',\n",
              "     'state': 'MA'},\n",
              "    'name': 'Capitol Coffee House',\n",
              "    'referralId': 'v-1594627697',\n",
              "    'venuePage': {'id': '34319963'}},\n",
              "   {'categories': [{'icon': {'prefix': 'https://ss3.4sqi.net/img/categories_v2/food/coffeeshop_',\n",
              "       'suffix': '.png'},\n",
              "      'id': '4bf58dd8d48988d1e0931735',\n",
              "      'name': 'Coffee Shop',\n",
              "      'pluralName': 'Coffee Shops',\n",
              "      'primary': True,\n",
              "      'shortName': 'Coffee Shop'}],\n",
              "    'delivery': {'id': '1313106',\n",
              "     'provider': {'icon': {'name': '/delivery_provider_grubhub_20180129.png',\n",
              "       'prefix': 'https://fastly.4sqi.net/img/general/cap/',\n",
              "       'sizes': [40, 50]},\n",
              "      'name': 'grubhub'},\n",
              "     'url': 'https://www.grubhub.com/restaurant/render-coffee-121-devonshire-street-boston/1313106?affiliate=1131&utm_source=foursquare-affiliate-network&utm_medium=affiliate&utm_campaign=1131&utm_content=1313106'},\n",
              "    'hasPerk': False,\n",
              "    'id': '57079c6c498e3d4a7dcfbd84',\n",
              "    'location': {'address': '121 Devonshire',\n",
              "     'cc': 'US',\n",
              "     'city': 'Boston',\n",
              "     'country': 'United States',\n",
              "     'crossStreet': 'btwn Water & Milk St',\n",
              "     'distance': 354,\n",
              "     'formattedAddress': ['121 Devonshire (btwn Water & Milk St)',\n",
              "      'Boston, MA',\n",
              "      'United States'],\n",
              "     'labeledLatLngs': [{'label': 'display',\n",
              "       'lat': 42.35714521652015,\n",
              "       'lng': -71.0573419723439}],\n",
              "     'lat': 42.35714521652015,\n",
              "     'lng': -71.0573419723439,\n",
              "     'state': 'MA'},\n",
              "    'name': 'Render Coffee',\n",
              "    'referralId': 'v-1594627697'},\n",
              "   {'categories': [{'icon': {'prefix': 'https://ss3.4sqi.net/img/categories_v2/food/coffeeshop_',\n",
              "       'suffix': '.png'},\n",
              "      'id': '4bf58dd8d48988d1e0931735',\n",
              "      'name': 'Coffee Shop',\n",
              "      'pluralName': 'Coffee Shops',\n",
              "      'primary': True,\n",
              "      'shortName': 'Coffee Shop'}],\n",
              "    'hasPerk': False,\n",
              "    'id': '4a9d140df964a520d73720e3',\n",
              "    'location': {'address': '50 Broad St',\n",
              "     'cc': 'US',\n",
              "     'city': 'Boston',\n",
              "     'country': 'United States',\n",
              "     'crossStreet': 'at Milk St',\n",
              "     'distance': 430,\n",
              "     'formattedAddress': ['50 Broad St (at Milk St)',\n",
              "      'Boston, MA 02109',\n",
              "      'United States'],\n",
              "     'labeledLatLngs': [{'label': 'display',\n",
              "       'lat': 42.35812714536935,\n",
              "       'lng': -71.05391747241961},\n",
              "      {'label': 'entrance', 'lat': 42.357955, 'lng': -71.05375}],\n",
              "     'lat': 42.35812714536935,\n",
              "     'lng': -71.05391747241961,\n",
              "     'postalCode': '02109',\n",
              "     'state': 'MA'},\n",
              "    'name': 'Flat Black Coffee Company',\n",
              "    'referralId': 'v-1594627697'},\n",
              "   {'categories': [{'icon': {'prefix': 'https://ss3.4sqi.net/img/categories_v2/food/coffeeshop_',\n",
              "       'suffix': '.png'},\n",
              "      'id': '4bf58dd8d48988d1e0931735',\n",
              "      'name': 'Coffee Shop',\n",
              "      'pluralName': 'Coffee Shops',\n",
              "      'primary': True,\n",
              "      'shortName': 'Coffee Shop'}],\n",
              "    'delivery': {'id': '1315129',\n",
              "     'provider': {'icon': {'name': '/delivery_provider_grubhub_20180129.png',\n",
              "       'prefix': 'https://fastly.4sqi.net/img/general/cap/',\n",
              "       'sizes': [40, 50]},\n",
              "      'name': 'grubhub'},\n",
              "     'url': 'https://www.grubhub.com/restaurant/flat-black-262-franklin-street-boston/1315129?affiliate=1131&utm_source=foursquare-affiliate-network&utm_medium=affiliate&utm_campaign=1131&utm_content=1315129'},\n",
              "    'hasPerk': False,\n",
              "    'id': '506ad575e4b0677a1fdc94b6',\n",
              "    'location': {'address': '260 Franklin St',\n",
              "     'cc': 'US',\n",
              "     'city': 'Boston',\n",
              "     'country': 'United States',\n",
              "     'distance': 541,\n",
              "     'formattedAddress': ['260 Franklin St',\n",
              "      'Boston, MA 02110',\n",
              "      'United States'],\n",
              "     'labeledLatLngs': [{'label': 'display',\n",
              "       'lat': 42.35670390388845,\n",
              "       'lng': -71.05379542064023},\n",
              "      {'label': 'entrance', 'lat': 42.356783, 'lng': -71.053746}],\n",
              "     'lat': 42.35670390388845,\n",
              "     'lng': -71.05379542064023,\n",
              "     'postalCode': '02110',\n",
              "     'state': 'MA'},\n",
              "    'name': 'Flat Black Coffee Company',\n",
              "    'referralId': 'v-1594627697'},\n",
              "   {'categories': [{'icon': {'prefix': 'https://ss3.4sqi.net/img/categories_v2/food/coffeeshop_',\n",
              "       'suffix': '.png'},\n",
              "      'id': '4bf58dd8d48988d1e0931735',\n",
              "      'name': 'Coffee Shop',\n",
              "      'pluralName': 'Coffee Shops',\n",
              "      'primary': True,\n",
              "      'shortName': 'Coffee Shop'}],\n",
              "    'delivery': {'id': '1784454',\n",
              "     'provider': {'icon': {'name': '/delivery_provider_grubhub_20180129.png',\n",
              "       'prefix': 'https://fastly.4sqi.net/img/general/cap/',\n",
              "       'sizes': [40, 50]},\n",
              "      'name': 'grubhub'},\n",
              "     'url': 'https://www.grubhub.com/restaurant/recreo-coffee--roasterie-1-city-hall-square-boston/1784454?affiliate=1131&utm_source=foursquare-affiliate-network&utm_medium=affiliate&utm_campaign=1131&utm_content=1784454'},\n",
              "    'hasPerk': False,\n",
              "    'id': '5b2924603ba767002cdf864f',\n",
              "    'location': {'address': '1 City Hall Ave',\n",
              "     'cc': 'US',\n",
              "     'city': 'Boston',\n",
              "     'country': 'United States',\n",
              "     'distance': 27,\n",
              "     'formattedAddress': ['1 City Hall Ave',\n",
              "      'Boston, MA 02108',\n",
              "      'United States'],\n",
              "     'labeledLatLngs': [{'label': 'display',\n",
              "       'lat': 42.360016,\n",
              "       'lng': -71.0582}],\n",
              "     'lat': 42.360016,\n",
              "     'lng': -71.0582,\n",
              "     'postalCode': '02108',\n",
              "     'state': 'MA'},\n",
              "    'name': 'Recreo Coffee Roasterie',\n",
              "    'referralId': 'v-1594627697'},\n",
              "   {'categories': [{'icon': {'prefix': 'https://ss3.4sqi.net/img/categories_v2/food/coffeeshop_',\n",
              "       'suffix': '.png'},\n",
              "      'id': '4bf58dd8d48988d1e0931735',\n",
              "      'name': 'Coffee Shop',\n",
              "      'pluralName': 'Coffee Shops',\n",
              "      'primary': True,\n",
              "      'shortName': 'Coffee Shop'}],\n",
              "    'hasPerk': False,\n",
              "    'id': '560eaf4f498e804a919109db',\n",
              "    'location': {'address': '1 City Hall Square',\n",
              "     'cc': 'US',\n",
              "     'city': 'Boston',\n",
              "     'country': 'United States',\n",
              "     'distance': 26,\n",
              "     'formattedAddress': ['1 City Hall Square',\n",
              "      'Boston, MA 02201',\n",
              "      'United States'],\n",
              "     'labeledLatLngs': [{'label': 'display',\n",
              "       'lat': 42.360328674316406,\n",
              "       'lng': -71.05799102783203}],\n",
              "     'lat': 42.360328674316406,\n",
              "     'lng': -71.05799102783203,\n",
              "     'postalCode': '02201',\n",
              "     'state': 'MA'},\n",
              "    'name': 'Triangle Coffee',\n",
              "    'referralId': 'v-1594627697'},\n",
              "   {'categories': [{'icon': {'prefix': 'https://ss3.4sqi.net/img/categories_v2/shops/conveniencestore_',\n",
              "       'suffix': '.png'},\n",
              "      'id': '4d954b0ea243a5684a65b473',\n",
              "      'name': 'Convenience Store',\n",
              "      'pluralName': 'Convenience Stores',\n",
              "      'primary': True,\n",
              "      'shortName': 'Convenience Store'}],\n",
              "    'hasPerk': False,\n",
              "    'id': '4edf77a2aa1f92cba029d879',\n",
              "    'location': {'address': '15 New Sudbury St',\n",
              "     'cc': 'US',\n",
              "     'city': 'Boston',\n",
              "     'country': 'United States',\n",
              "     'distance': 151,\n",
              "     'formattedAddress': ['15 New Sudbury St',\n",
              "      'Boston, MA 02203',\n",
              "      'United States'],\n",
              "     'labeledLatLngs': [{'label': 'display',\n",
              "       'lat': 42.361415,\n",
              "       'lng': -71.059242}],\n",
              "     'lat': 42.361415,\n",
              "     'lng': -71.059242,\n",
              "     'postalCode': '02203',\n",
              "     'state': 'MA'},\n",
              "    'name': 'Coffee Zone',\n",
              "    'referralId': 'v-1594627697'},\n",
              "   {'categories': [{'icon': {'prefix': 'https://ss3.4sqi.net/img/categories_v2/food/coffeeshop_',\n",
              "       'suffix': '.png'},\n",
              "      'id': '4bf58dd8d48988d1e0931735',\n",
              "      'name': 'Coffee Shop',\n",
              "      'pluralName': 'Coffee Shops',\n",
              "      'primary': True,\n",
              "      'shortName': 'Coffee Shop'}],\n",
              "    'hasPerk': False,\n",
              "    'id': '55c7541b498e1c44d8c3e506',\n",
              "    'location': {'address': '100 Hanover St',\n",
              "     'cc': 'US',\n",
              "     'city': 'Boston',\n",
              "     'country': 'United States',\n",
              "     'distance': 188,\n",
              "     'formattedAddress': ['100 Hanover St',\n",
              "      'Boston, MA 02108',\n",
              "      'United States'],\n",
              "     'labeledLatLngs': [{'label': 'display',\n",
              "       'lat': 42.361831810881,\n",
              "       'lng': -71.05744523774474}],\n",
              "     'lat': 42.361831810881,\n",
              "     'lng': -71.05744523774474,\n",
              "     'postalCode': '02108',\n",
              "     'state': 'MA'},\n",
              "    'name': 'George Howell Coffee',\n",
              "    'referralId': 'v-1594627697'},\n",
              "   {'categories': [{'icon': {'prefix': 'https://ss3.4sqi.net/img/categories_v2/food/default_',\n",
              "       'suffix': '.png'},\n",
              "      'id': '4d4b7105d754a06374d81259',\n",
              "      'name': 'Food',\n",
              "      'pluralName': 'Food',\n",
              "      'primary': True,\n",
              "      'shortName': 'Food'}],\n",
              "    'hasPerk': False,\n",
              "    'id': '4f3202d519833175d6097c42',\n",
              "    'location': {'address': '275 Washington St',\n",
              "     'cc': 'US',\n",
              "     'city': 'Boston',\n",
              "     'country': 'United States',\n",
              "     'distance': 255,\n",
              "     'formattedAddress': ['275 Washington St',\n",
              "      'Boston, MA 02108',\n",
              "      'United States'],\n",
              "     'labeledLatLngs': [{'label': 'display',\n",
              "       'lat': 42.357956,\n",
              "       'lng': -71.058295}],\n",
              "     'lat': 42.357956,\n",
              "     'lng': -71.058295,\n",
              "     'postalCode': '02108',\n",
              "     'state': 'MA'},\n",
              "    'name': 'Boston King Coffee',\n",
              "    'referralId': 'v-1594627697'},\n",
              "   {'categories': [{'icon': {'prefix': 'https://ss3.4sqi.net/img/categories_v2/food/default_',\n",
              "       'suffix': '.png'},\n",
              "      'id': '4d4b7105d754a06374d81259',\n",
              "      'name': 'Food',\n",
              "      'pluralName': 'Food',\n",
              "      'primary': True,\n",
              "      'shortName': 'Food'}],\n",
              "    'hasPerk': False,\n",
              "    'id': '4f323d2519836c91c7c3dd5b',\n",
              "    'location': {'address': '1 Congress St',\n",
              "     'cc': 'US',\n",
              "     'city': 'Boston',\n",
              "     'country': 'United States',\n",
              "     'distance': 280,\n",
              "     'formattedAddress': ['1 Congress St',\n",
              "      'Boston, MA 02114',\n",
              "      'United States'],\n",
              "     'labeledLatLngs': [{'label': 'display',\n",
              "       'lat': 42.362770080566406,\n",
              "       'lng': -71.05848693847656}],\n",
              "     'lat': 42.362770080566406,\n",
              "     'lng': -71.05848693847656,\n",
              "     'postalCode': '02114',\n",
              "     'state': 'MA'},\n",
              "    'name': \"Lou's Coffee Shop\",\n",
              "    'referralId': 'v-1594627697'},\n",
              "   {'categories': [{'icon': {'prefix': 'https://ss3.4sqi.net/img/categories_v2/food/coffeeshop_',\n",
              "       'suffix': '.png'},\n",
              "      'id': '4bf58dd8d48988d1e0931735',\n",
              "      'name': 'Coffee Shop',\n",
              "      'pluralName': 'Coffee Shops',\n",
              "      'primary': True,\n",
              "      'shortName': 'Coffee Shop'}],\n",
              "    'hasPerk': False,\n",
              "    'id': '4fc8a668e4b067bcc4919ef8',\n",
              "    'location': {'address': 'Faneuil Hall',\n",
              "     'cc': 'US',\n",
              "     'city': 'Boston',\n",
              "     'country': 'United States',\n",
              "     'distance': 154,\n",
              "     'formattedAddress': ['Faneuil Hall', 'Boston, MA 02109', 'United States'],\n",
              "     'labeledLatLngs': [{'label': 'display',\n",
              "       'lat': 42.36005390973289,\n",
              "       'lng': -71.05643373101445}],\n",
              "     'lat': 42.36005390973289,\n",
              "     'lng': -71.05643373101445,\n",
              "     'postalCode': '02109',\n",
              "     'state': 'MA'},\n",
              "    'name': 'Red Barn Coffee Roasters',\n",
              "    'referralId': 'v-1594627697'},\n",
              "   {'categories': [],\n",
              "    'hasPerk': False,\n",
              "    'id': '4cdcad6c7dc62c0fad58e8f2',\n",
              "    'location': {'address': '1 City Hall Square',\n",
              "     'cc': 'US',\n",
              "     'city': 'Boston',\n",
              "     'country': 'United States',\n",
              "     'distance': 289,\n",
              "     'formattedAddress': ['1 City Hall Square',\n",
              "      'Boston, MA 02201',\n",
              "      'United States'],\n",
              "     'labeledLatLngs': [{'label': 'display',\n",
              "       'lat': 42.357766,\n",
              "       'lng': -71.059299}],\n",
              "     'lat': 42.357766,\n",
              "     'lng': -71.059299,\n",
              "     'postalCode': '02201',\n",
              "     'state': 'MA'},\n",
              "    'name': 'Snap Coffee',\n",
              "    'referralId': 'v-1594627697'},\n",
              "   {'categories': [{'icon': {'prefix': 'https://ss3.4sqi.net/img/categories_v2/food/coffeeshop_',\n",
              "       'suffix': '.png'},\n",
              "      'id': '4bf58dd8d48988d1e0931735',\n",
              "      'name': 'Coffee Shop',\n",
              "      'pluralName': 'Coffee Shops',\n",
              "      'primary': True,\n",
              "      'shortName': 'Coffee Shop'}],\n",
              "    'hasPerk': False,\n",
              "    'id': '4f3248f419836c91c7c8980b',\n",
              "    'location': {'address': '176 Federal St',\n",
              "     'cc': 'US',\n",
              "     'city': 'Boston',\n",
              "     'country': 'United States',\n",
              "     'distance': 419,\n",
              "     'formattedAddress': ['176 Federal St',\n",
              "      'Boston, MA 02110',\n",
              "      'United States'],\n",
              "     'labeledLatLngs': [{'label': 'display',\n",
              "       'lat': 42.35670471191406,\n",
              "       'lng': -71.05658721923828}],\n",
              "     'lat': 42.35670471191406,\n",
              "     'lng': -71.05658721923828,\n",
              "     'postalCode': '02110',\n",
              "     'state': 'MA'},\n",
              "    'name': \"Peet's Coffee and Tea\",\n",
              "    'referralId': 'v-1594627697'},\n",
              "   {'categories': [{'icon': {'prefix': 'https://ss3.4sqi.net/img/categories_v2/food/cafe_',\n",
              "       'suffix': '.png'},\n",
              "      'id': '4bf58dd8d48988d16d941735',\n",
              "      'name': 'Café',\n",
              "      'pluralName': 'Cafés',\n",
              "      'primary': True,\n",
              "      'shortName': 'Café'}],\n",
              "    'hasPerk': False,\n",
              "    'id': '4bd991bb67b49c7455922214',\n",
              "    'location': {'address': '33 Arch St',\n",
              "     'cc': 'US',\n",
              "     'city': 'Boston',\n",
              "     'country': 'United States',\n",
              "     'distance': 431,\n",
              "     'formattedAddress': ['33 Arch St', 'Boston, MA 02110', 'United States'],\n",
              "     'labeledLatLngs': [{'label': 'display',\n",
              "       'lat': 42.35661931981928,\n",
              "       'lng': -71.06013314410002}],\n",
              "     'lat': 42.35661931981928,\n",
              "     'lng': -71.06013314410002,\n",
              "     'postalCode': '02110',\n",
              "     'state': 'MA'},\n",
              "    'name': 'Voltage Coffee',\n",
              "    'referralId': 'v-1594627697'},\n",
              "   {'categories': [{'icon': {'prefix': 'https://ss3.4sqi.net/img/categories_v2/food/cafe_',\n",
              "       'suffix': '.png'},\n",
              "      'id': '4bf58dd8d48988d16d941735',\n",
              "      'name': 'Café',\n",
              "      'pluralName': 'Cafés',\n",
              "      'primary': True,\n",
              "      'shortName': 'Café'}],\n",
              "    'hasPerk': False,\n",
              "    'id': '4e96e86d8b811f0c6667de76',\n",
              "    'location': {'address': '40 Broad St',\n",
              "     'cc': 'US',\n",
              "     'city': 'Boston',\n",
              "     'country': 'United States',\n",
              "     'distance': 412,\n",
              "     'formattedAddress': ['40 Broad St', 'Boston, MA 02109', 'United States'],\n",
              "     'labeledLatLngs': [{'label': 'display',\n",
              "       'lat': 42.35840606689453,\n",
              "       'lng': -71.05394744873047}],\n",
              "     'lat': 42.35840606689453,\n",
              "     'lng': -71.05394744873047,\n",
              "     'postalCode': '02109',\n",
              "     'state': 'MA'},\n",
              "    'name': 'The Mulls Coffee Bar',\n",
              "    'referralId': 'v-1594627697'},\n",
              "   {'categories': [{'icon': {'prefix': 'https://ss3.4sqi.net/img/categories_v2/food/cafe_',\n",
              "       'suffix': '.png'},\n",
              "      'id': '4bf58dd8d48988d16d941735',\n",
              "      'name': 'Café',\n",
              "      'pluralName': 'Cafés',\n",
              "      'primary': True,\n",
              "      'shortName': 'Café'}],\n",
              "    'hasPerk': False,\n",
              "    'id': '5339693b498eec22b7c7da4d',\n",
              "    'location': {'address': '75 State St',\n",
              "     'cc': 'US',\n",
              "     'city': 'Boston',\n",
              "     'country': 'United States',\n",
              "     'distance': 297,\n",
              "     'formattedAddress': ['75 State St', 'Boston, MA 02109', 'United States'],\n",
              "     'labeledLatLngs': [{'label': 'display',\n",
              "       'lat': 42.35839138433851,\n",
              "       'lng': -71.05569297634452}],\n",
              "     'lat': 42.35839138433851,\n",
              "     'lng': -71.05569297634452,\n",
              "     'postalCode': '02109',\n",
              "     'state': 'MA'},\n",
              "    'name': 'Piadina Cafe & Coffee Shop',\n",
              "    'referralId': 'v-1594627697',\n",
              "    'venuePage': {'id': '115990510'}},\n",
              "   {'categories': [{'icon': {'prefix': 'https://ss3.4sqi.net/img/categories_v2/food/coffeeshop_',\n",
              "       'suffix': '.png'},\n",
              "      'id': '4bf58dd8d48988d1e0931735',\n",
              "      'name': 'Coffee Shop',\n",
              "      'pluralName': 'Coffee Shops',\n",
              "      'primary': True,\n",
              "      'shortName': 'Coffee Shop'}],\n",
              "    'hasPerk': False,\n",
              "    'id': '4f32846319836c91c7df84b6',\n",
              "    'location': {'address': '19 Staniford St',\n",
              "     'cc': 'US',\n",
              "     'city': 'Boston',\n",
              "     'country': 'United States',\n",
              "     'distance': 490,\n",
              "     'formattedAddress': ['19 Staniford St',\n",
              "      'Boston, MA 02114',\n",
              "      'United States'],\n",
              "     'labeledLatLngs': [{'label': 'display',\n",
              "       'lat': 42.361981,\n",
              "       'lng': -71.063783}],\n",
              "     'lat': 42.361981,\n",
              "     'lng': -71.063783,\n",
              "     'postalCode': '02114',\n",
              "     'state': 'MA'},\n",
              "    'name': 'Bills Coffee Shop',\n",
              "    'referralId': 'v-1594627697'},\n",
              "   {'categories': [{'icon': {'prefix': 'https://ss3.4sqi.net/img/categories_v2/food/coffeeshop_',\n",
              "       'suffix': '.png'},\n",
              "      'id': '4bf58dd8d48988d1e0931735',\n",
              "      'name': 'Coffee Shop',\n",
              "      'pluralName': 'Coffee Shops',\n",
              "      'primary': True,\n",
              "      'shortName': 'Coffee Shop'}],\n",
              "    'hasPerk': False,\n",
              "    'id': '5b786856e727c4002487003b',\n",
              "    'location': {'address': '225 Franklin St',\n",
              "     'cc': 'US',\n",
              "     'city': 'Boston',\n",
              "     'country': 'United States',\n",
              "     'distance': 540,\n",
              "     'formattedAddress': ['225 Franklin St',\n",
              "      'Boston, MA 02110',\n",
              "      'United States'],\n",
              "     'labeledLatLngs': [{'label': 'display',\n",
              "       'lat': 42.35627374506991,\n",
              "       'lng': -71.05452925038966}],\n",
              "     'lat': 42.35627374506991,\n",
              "     'lng': -71.05452925038966,\n",
              "     'postalCode': '02110',\n",
              "     'state': 'MA'},\n",
              "    'name': 'Intelligentsia Coffee',\n",
              "    'referralId': 'v-1594627697'},\n",
              "   {'categories': [{'icon': {'prefix': 'https://ss3.4sqi.net/img/categories_v2/food/coffeeshop_',\n",
              "       'suffix': '.png'},\n",
              "      'id': '4bf58dd8d48988d1e0931735',\n",
              "      'name': 'Coffee Shop',\n",
              "      'pluralName': 'Coffee Shops',\n",
              "      'primary': True,\n",
              "      'shortName': 'Coffee Shop'}],\n",
              "    'hasPerk': False,\n",
              "    'id': '5abce4d29cadd93b8c8a3c17',\n",
              "    'location': {'address': '100 Federal St',\n",
              "     'cc': 'US',\n",
              "     'city': 'Boston',\n",
              "     'country': 'United States',\n",
              "     'distance': 608,\n",
              "     'formattedAddress': ['100 Federal St',\n",
              "      'Boston, MA 02110',\n",
              "      'United States'],\n",
              "     'labeledLatLngs': [{'label': 'entrance',\n",
              "       'lat': 42.355059,\n",
              "       'lng': -71.055958},\n",
              "      {'label': 'display',\n",
              "       'lat': 42.355064392089844,\n",
              "       'lng': -71.05594635009766}],\n",
              "     'lat': 42.355064392089844,\n",
              "     'lng': -71.05594635009766,\n",
              "     'postalCode': '02110',\n",
              "     'state': 'MA'},\n",
              "    'name': 'Red Barn Coffee',\n",
              "    'referralId': 'v-1594627697'},\n",
              "   {'categories': [{'icon': {'prefix': 'https://ss3.4sqi.net/img/categories_v2/food/coffeeshop_',\n",
              "       'suffix': '.png'},\n",
              "      'id': '4bf58dd8d48988d1e0931735',\n",
              "      'name': 'Coffee Shop',\n",
              "      'pluralName': 'Coffee Shops',\n",
              "      'primary': True,\n",
              "      'shortName': 'Coffee Shop'}],\n",
              "    'delivery': {'id': '1314374',\n",
              "     'provider': {'icon': {'name': '/delivery_provider_grubhub_20180129.png',\n",
              "       'prefix': 'https://fastly.4sqi.net/img/general/cap/',\n",
              "       'sizes': [40, 50]},\n",
              "      'name': 'grubhub'},\n",
              "     'url': 'https://www.grubhub.com/restaurant/ogawa-coffee-10-milk-street-boston/1314374?affiliate=1131&utm_source=foursquare-affiliate-network&utm_medium=affiliate&utm_campaign=1131&utm_content=1314374'},\n",
              "    'hasPerk': False,\n",
              "    'id': '555a7a8f498eb839923af583',\n",
              "    'location': {'address': '10 Milk St',\n",
              "     'cc': 'US',\n",
              "     'city': 'Boston',\n",
              "     'country': 'United States',\n",
              "     'crossStreet': 'Hawley',\n",
              "     'distance': 398,\n",
              "     'formattedAddress': ['10 Milk St (Hawley)',\n",
              "      'Boston, MA 02108',\n",
              "      'United States'],\n",
              "     'labeledLatLngs': [{'label': 'display',\n",
              "       'lat': 42.35667419913848,\n",
              "       'lng': -71.05810867191069}],\n",
              "     'lat': 42.35667419913848,\n",
              "     'lng': -71.05810867191069,\n",
              "     'postalCode': '02108',\n",
              "     'state': 'MA'},\n",
              "    'name': 'Ogawa Coffee Boston',\n",
              "    'referralId': 'v-1594627697'},\n",
              "   {'categories': [{'icon': {'prefix': 'https://ss3.4sqi.net/img/categories_v2/food/coffeeshop_',\n",
              "       'suffix': '.png'},\n",
              "      'id': '4bf58dd8d48988d1e0931735',\n",
              "      'name': 'Coffee Shop',\n",
              "      'pluralName': 'Coffee Shops',\n",
              "      'primary': True,\n",
              "      'shortName': 'Coffee Shop'}],\n",
              "    'hasPerk': False,\n",
              "    'id': '5672cdbb498e330ca7819f73',\n",
              "    'location': {'address': '255 State St',\n",
              "     'cc': 'US',\n",
              "     'city': 'Boston',\n",
              "     'country': 'United States',\n",
              "     'distance': 584,\n",
              "     'formattedAddress': ['255 State St', 'Boston, MA 02109', 'United States'],\n",
              "     'labeledLatLngs': [{'label': 'display',\n",
              "       'lat': 42.35922980883426,\n",
              "       'lng': -71.05132105496752}],\n",
              "     'lat': 42.35922980883426,\n",
              "     'lng': -71.05132105496752,\n",
              "     'postalCode': '02109',\n",
              "     'state': 'MA'},\n",
              "    'name': 'Flat Black Coffee Company',\n",
              "    'referralId': 'v-1594627697'},\n",
              "   {'categories': [{'icon': {'prefix': 'https://ss3.4sqi.net/img/categories_v2/food/coffeeshop_',\n",
              "       'suffix': '.png'},\n",
              "      'id': '4bf58dd8d48988d1e0931735',\n",
              "      'name': 'Coffee Shop',\n",
              "      'pluralName': 'Coffee Shops',\n",
              "      'primary': True,\n",
              "      'shortName': 'Coffee Shop'}],\n",
              "    'hasPerk': False,\n",
              "    'id': '5c2397c9911fc4002cbb6b45',\n",
              "    'location': {'address': '89 Broad St',\n",
              "     'cc': 'US',\n",
              "     'city': 'Boston',\n",
              "     'country': 'United States',\n",
              "     'distance': 547,\n",
              "     'formattedAddress': ['89 Broad St', 'Boston, MA 02110', 'United States'],\n",
              "     'labeledLatLngs': [{'label': 'display',\n",
              "       'lat': 42.357086,\n",
              "       'lng': -71.0532}],\n",
              "     'lat': 42.357086,\n",
              "     'lng': -71.0532,\n",
              "     'postalCode': '02110',\n",
              "     'state': 'MA'},\n",
              "    'name': 'Tradesman Coffee Shop and Lounge',\n",
              "    'referralId': 'v-1594627697'},\n",
              "   {'categories': [{'icon': {'prefix': 'https://ss3.4sqi.net/img/categories_v2/food/coffeeshop_',\n",
              "       'suffix': '.png'},\n",
              "      'id': '4bf58dd8d48988d1e0931735',\n",
              "      'name': 'Coffee Shop',\n",
              "      'pluralName': 'Coffee Shops',\n",
              "      'primary': True,\n",
              "      'shortName': 'Coffee Shop'}],\n",
              "    'hasPerk': False,\n",
              "    'id': '57407fb2498e4398968539dd',\n",
              "    'location': {'address': '102 Tremont St',\n",
              "     'cc': 'US',\n",
              "     'city': 'Boston',\n",
              "     'country': 'United States',\n",
              "     'crossStreet': 'Bromfield St.',\n",
              "     'distance': 418,\n",
              "     'formattedAddress': ['102 Tremont St (Bromfield St.)',\n",
              "      'Boston, MA 02108',\n",
              "      'United States'],\n",
              "     'labeledLatLngs': [{'label': 'display',\n",
              "       'lat': 42.357176250864995,\n",
              "       'lng': -71.06120460872872},\n",
              "      {'label': 'entrance', 'lat': 42.357192, 'lng': -71.061118}],\n",
              "     'lat': 42.357176250864995,\n",
              "     'lng': -71.06120460872872,\n",
              "     'postalCode': '02108',\n",
              "     'state': 'MA'},\n",
              "    'name': \"Ziggy's Coffee Bar\",\n",
              "    'referralId': 'v-1594627697'},\n",
              "   {'categories': [{'icon': {'prefix': 'https://ss3.4sqi.net/img/categories_v2/food/coffeeshop_',\n",
              "       'suffix': '.png'},\n",
              "      'id': '4bf58dd8d48988d1e0931735',\n",
              "      'name': 'Coffee Shop',\n",
              "      'pluralName': 'Coffee Shops',\n",
              "      'primary': True,\n",
              "      'shortName': 'Coffee Shop'}],\n",
              "    'hasPerk': False,\n",
              "    'id': '4e4c3925bd413c4cc667c6ec',\n",
              "    'location': {'address': '250 Washington St',\n",
              "     'cc': 'US',\n",
              "     'city': 'Boston',\n",
              "     'country': 'United States',\n",
              "     'distance': 266,\n",
              "     'formattedAddress': ['250 Washington St',\n",
              "      'Boston, MA 02108',\n",
              "      'United States'],\n",
              "     'labeledLatLngs': [{'label': 'display',\n",
              "       'lat': 42.35789489746094,\n",
              "       'lng': -71.0577163696289}],\n",
              "     'lat': 42.35789489746094,\n",
              "     'lng': -71.0577163696289,\n",
              "     'postalCode': '02108',\n",
              "     'state': 'MA'},\n",
              "    'name': 'Starbucks',\n",
              "    'referralId': 'v-1594627697'},\n",
              "   {'categories': [{'icon': {'prefix': 'https://ss3.4sqi.net/img/categories_v2/food/coffeeshop_',\n",
              "       'suffix': '.png'},\n",
              "      'id': '4bf58dd8d48988d1e0931735',\n",
              "      'name': 'Coffee Shop',\n",
              "      'pluralName': 'Coffee Shops',\n",
              "      'primary': True,\n",
              "      'shortName': 'Coffee Shop'}],\n",
              "    'hasPerk': False,\n",
              "    'id': '4c0d46c27189c928e4c1d6b6',\n",
              "    'location': {'address': '45 Bromfield St',\n",
              "     'cc': 'US',\n",
              "     'city': 'Boston',\n",
              "     'country': 'United States',\n",
              "     'distance': 409,\n",
              "     'formattedAddress': ['45 Bromfield St',\n",
              "      'Boston, MA 02108',\n",
              "      'United States'],\n",
              "     'labeledLatLngs': [{'label': 'entrance',\n",
              "       'lat': 42.356809,\n",
              "       'lng': -71.060257},\n",
              "      {'label': 'display',\n",
              "       'lat': 42.35696792602539,\n",
              "       'lng': -71.06053161621094}],\n",
              "     'lat': 42.35696792602539,\n",
              "     'lng': -71.06053161621094,\n",
              "     'postalCode': '02108',\n",
              "     'state': 'MA'},\n",
              "    'name': 'Bromfield Brewhouse',\n",
              "    'referralId': 'v-1594627697'},\n",
              "   {'categories': [{'icon': {'prefix': 'https://ss3.4sqi.net/img/categories_v2/food/coffeeshop_',\n",
              "       'suffix': '.png'},\n",
              "      'id': '4bf58dd8d48988d1e0931735',\n",
              "      'name': 'Coffee Shop',\n",
              "      'pluralName': 'Coffee Shops',\n",
              "      'primary': True,\n",
              "      'shortName': 'Coffee Shop'}],\n",
              "    'hasPerk': False,\n",
              "    'id': '4abe640bf964a5202d8d20e3',\n",
              "    'location': {'address': '63-65 Court St',\n",
              "     'cc': 'US',\n",
              "     'city': 'Boston',\n",
              "     'country': 'United States',\n",
              "     'crossStreet': 'at Cambridge St',\n",
              "     'distance': 127,\n",
              "     'formattedAddress': ['63-65 Court St (at Cambridge St)',\n",
              "      'Boston, MA 02108',\n",
              "      'United States'],\n",
              "     'labeledLatLngs': [{'label': 'display',\n",
              "       'lat': 42.35938374,\n",
              "       'lng': -71.05930244}],\n",
              "     'lat': 42.35938374,\n",
              "     'lng': -71.05930244,\n",
              "     'postalCode': '02108',\n",
              "     'state': 'MA'},\n",
              "    'name': 'Starbucks',\n",
              "    'referralId': 'v-1594627697'},\n",
              "   {'categories': [{'icon': {'prefix': 'https://ss3.4sqi.net/img/categories_v2/food/cafe_',\n",
              "       'suffix': '.png'},\n",
              "      'id': '4bf58dd8d48988d16d941735',\n",
              "      'name': 'Café',\n",
              "      'pluralName': 'Cafés',\n",
              "      'primary': True,\n",
              "      'shortName': 'Café'}],\n",
              "    'hasPerk': False,\n",
              "    'id': '5bd8f4b4f709c1002cc147cd',\n",
              "    'location': {'address': '1 State St',\n",
              "     'cc': 'US',\n",
              "     'city': 'Boston',\n",
              "     'country': 'United States',\n",
              "     'distance': 205,\n",
              "     'formattedAddress': ['1 State St', 'Boston, MA 02109', 'United States'],\n",
              "     'labeledLatLngs': [{'label': 'display',\n",
              "       'lat': 42.35846710205078,\n",
              "       'lng': -71.05764770507812}],\n",
              "     'lat': 42.35846710205078,\n",
              "     'lng': -71.05764770507812,\n",
              "     'postalCode': '02109',\n",
              "     'state': 'MA'},\n",
              "    'name': 'Well Coffeehouse',\n",
              "    'referralId': 'v-1594627697'},\n",
              "   {'categories': [{'icon': {'prefix': 'https://ss3.4sqi.net/img/categories_v2/food/coffeeshop_',\n",
              "       'suffix': '.png'},\n",
              "      'id': '4bf58dd8d48988d1e0931735',\n",
              "      'name': 'Coffee Shop',\n",
              "      'pluralName': 'Coffee Shops',\n",
              "      'primary': True,\n",
              "      'shortName': 'Coffee Shop'}],\n",
              "    'hasPerk': False,\n",
              "    'id': '51a49c41498e034cea66e562',\n",
              "    'location': {'address': '1 Merrimac St',\n",
              "     'cc': 'US',\n",
              "     'city': 'Boston',\n",
              "     'country': 'United States',\n",
              "     'distance': 345,\n",
              "     'formattedAddress': ['1 Merrimac St',\n",
              "      'Boston, MA 02114',\n",
              "      'United States'],\n",
              "     'labeledLatLngs': [{'label': 'display',\n",
              "       'lat': 42.363144157727085,\n",
              "       'lng': -71.05982969664457}],\n",
              "     'lat': 42.363144157727085,\n",
              "     'lng': -71.05982969664457,\n",
              "     'postalCode': '02114',\n",
              "     'state': 'MA'},\n",
              "    'name': 'Cuppacoffee',\n",
              "    'referralId': 'v-1594627697'},\n",
              "   {'categories': [{'icon': {'prefix': 'https://ss3.4sqi.net/img/categories_v2/building/default_',\n",
              "       'suffix': '.png'},\n",
              "      'id': '4bf58dd8d48988d124941735',\n",
              "      'name': 'Office',\n",
              "      'pluralName': 'Offices',\n",
              "      'primary': True,\n",
              "      'shortName': 'Office'}],\n",
              "    'hasPerk': False,\n",
              "    'id': '4b69ca78f964a52072b42be3',\n",
              "    'location': {'address': '1 Ashburton Pl',\n",
              "     'cc': 'US',\n",
              "     'city': 'Boston',\n",
              "     'country': 'United States',\n",
              "     'crossStreet': 'at Bowdoin St.',\n",
              "     'distance': 366,\n",
              "     'formattedAddress': ['1 Ashburton Pl (at Bowdoin St.)',\n",
              "      'Boston, MA 02108',\n",
              "      'United States'],\n",
              "     'labeledLatLngs': [{'label': 'display',\n",
              "       'lat': 42.35958312667762,\n",
              "       'lng': -71.06265091267154}],\n",
              "     'lat': 42.35958312667762,\n",
              "     'lng': -71.06265091267154,\n",
              "     'postalCode': '02108',\n",
              "     'state': 'MA'},\n",
              "    'name': 'One Ashburton Place',\n",
              "    'referralId': 'v-1594627697'}]}}"
            ]
          },
          "metadata": {
            "tags": []
          },
          "execution_count": 41
        }
      ]
    },
    {
      "cell_type": "markdown",
      "metadata": {
        "button": false,
        "deletable": true,
        "new_sheet": false,
        "run_control": {
          "read_only": false
        },
        "id": "krm1m96RlC3X",
        "colab_type": "text"
      },
      "source": [
        "#### Get relevant part of JSON and transform it into a *pandas* dataframe"
      ]
    },
    {
      "cell_type": "code",
      "metadata": {
        "button": false,
        "deletable": true,
        "new_sheet": false,
        "run_control": {
          "read_only": false
        },
        "id": "abe8-00hlC3Y",
        "colab_type": "code",
        "colab": {
          "base_uri": "https://localhost:8080/",
          "height": 462
        },
        "outputId": "fbfac592-7b71-4899-f3cc-1a37fb3a6b96"
      },
      "source": [
        "# assign relevant part of JSON to venues\n",
        "venues = results['response']['venues']\n",
        "\n",
        "# tranform venues into a dataframe\n",
        "dataframe = json_normalize(venues)\n",
        "dataframe.head()"
      ],
      "execution_count": 42,
      "outputs": [
        {
          "output_type": "stream",
          "text": [
            "/usr/local/lib/python3.6/dist-packages/ipykernel_launcher.py:5: FutureWarning: pandas.io.json.json_normalize is deprecated, use pandas.json_normalize instead\n",
            "  \"\"\"\n"
          ],
          "name": "stderr"
        },
        {
          "output_type": "execute_result",
          "data": {
            "text/html": [
              "<div>\n",
              "<style scoped>\n",
              "    .dataframe tbody tr th:only-of-type {\n",
              "        vertical-align: middle;\n",
              "    }\n",
              "\n",
              "    .dataframe tbody tr th {\n",
              "        vertical-align: top;\n",
              "    }\n",
              "\n",
              "    .dataframe thead th {\n",
              "        text-align: right;\n",
              "    }\n",
              "</style>\n",
              "<table border=\"1\" class=\"dataframe\">\n",
              "  <thead>\n",
              "    <tr style=\"text-align: right;\">\n",
              "      <th></th>\n",
              "      <th>id</th>\n",
              "      <th>name</th>\n",
              "      <th>categories</th>\n",
              "      <th>referralId</th>\n",
              "      <th>hasPerk</th>\n",
              "      <th>location.address</th>\n",
              "      <th>location.crossStreet</th>\n",
              "      <th>location.lat</th>\n",
              "      <th>location.lng</th>\n",
              "      <th>location.labeledLatLngs</th>\n",
              "      <th>location.distance</th>\n",
              "      <th>location.postalCode</th>\n",
              "      <th>location.cc</th>\n",
              "      <th>location.city</th>\n",
              "      <th>location.state</th>\n",
              "      <th>location.country</th>\n",
              "      <th>location.formattedAddress</th>\n",
              "      <th>delivery.id</th>\n",
              "      <th>delivery.url</th>\n",
              "      <th>delivery.provider.name</th>\n",
              "      <th>delivery.provider.icon.prefix</th>\n",
              "      <th>delivery.provider.icon.sizes</th>\n",
              "      <th>delivery.provider.icon.name</th>\n",
              "      <th>venuePage.id</th>\n",
              "    </tr>\n",
              "  </thead>\n",
              "  <tbody>\n",
              "    <tr>\n",
              "      <th>0</th>\n",
              "      <td>40b28c80f964a520d6f71ee3</td>\n",
              "      <td>Polcari's Coffee</td>\n",
              "      <td>[{'id': '4bf58dd8d48988d1f5941735', 'name': 'G...</td>\n",
              "      <td>v-1594627697</td>\n",
              "      <td>False</td>\n",
              "      <td>105 Salem St</td>\n",
              "      <td>at Parmenter St.</td>\n",
              "      <td>42.364125</td>\n",
              "      <td>-71.055513</td>\n",
              "      <td>[{'label': 'display', 'lat': 42.36412501908669...</td>\n",
              "      <td>487</td>\n",
              "      <td>02113</td>\n",
              "      <td>US</td>\n",
              "      <td>Boston</td>\n",
              "      <td>MA</td>\n",
              "      <td>United States</td>\n",
              "      <td>[105 Salem St (at Parmenter St.), Boston, MA 0...</td>\n",
              "      <td>NaN</td>\n",
              "      <td>NaN</td>\n",
              "      <td>NaN</td>\n",
              "      <td>NaN</td>\n",
              "      <td>NaN</td>\n",
              "      <td>NaN</td>\n",
              "      <td>NaN</td>\n",
              "    </tr>\n",
              "    <tr>\n",
              "      <th>1</th>\n",
              "      <td>4b61f993f964a520752e2ae3</td>\n",
              "      <td>Capitol Coffee House</td>\n",
              "      <td>[{'id': '4bf58dd8d48988d143941735', 'name': 'B...</td>\n",
              "      <td>v-1594627697</td>\n",
              "      <td>False</td>\n",
              "      <td>122 Bowdoin St</td>\n",
              "      <td>at Ashburton Pl.</td>\n",
              "      <td>42.359140</td>\n",
              "      <td>-71.062860</td>\n",
              "      <td>[{'label': 'display', 'lat': 42.35914018730252...</td>\n",
              "      <td>395</td>\n",
              "      <td>02108</td>\n",
              "      <td>US</td>\n",
              "      <td>Boston</td>\n",
              "      <td>MA</td>\n",
              "      <td>United States</td>\n",
              "      <td>[122 Bowdoin St (at Ashburton Pl.), Boston, MA...</td>\n",
              "      <td>1760359</td>\n",
              "      <td>https://www.grubhub.com/restaurant/capitol-cof...</td>\n",
              "      <td>grubhub</td>\n",
              "      <td>https://fastly.4sqi.net/img/general/cap/</td>\n",
              "      <td>[40, 50]</td>\n",
              "      <td>/delivery_provider_grubhub_20180129.png</td>\n",
              "      <td>34319963</td>\n",
              "    </tr>\n",
              "    <tr>\n",
              "      <th>2</th>\n",
              "      <td>57079c6c498e3d4a7dcfbd84</td>\n",
              "      <td>Render Coffee</td>\n",
              "      <td>[{'id': '4bf58dd8d48988d1e0931735', 'name': 'C...</td>\n",
              "      <td>v-1594627697</td>\n",
              "      <td>False</td>\n",
              "      <td>121 Devonshire</td>\n",
              "      <td>btwn Water &amp; Milk St</td>\n",
              "      <td>42.357145</td>\n",
              "      <td>-71.057342</td>\n",
              "      <td>[{'label': 'display', 'lat': 42.35714521652015...</td>\n",
              "      <td>354</td>\n",
              "      <td>NaN</td>\n",
              "      <td>US</td>\n",
              "      <td>Boston</td>\n",
              "      <td>MA</td>\n",
              "      <td>United States</td>\n",
              "      <td>[121 Devonshire (btwn Water &amp; Milk St), Boston...</td>\n",
              "      <td>1313106</td>\n",
              "      <td>https://www.grubhub.com/restaurant/render-coff...</td>\n",
              "      <td>grubhub</td>\n",
              "      <td>https://fastly.4sqi.net/img/general/cap/</td>\n",
              "      <td>[40, 50]</td>\n",
              "      <td>/delivery_provider_grubhub_20180129.png</td>\n",
              "      <td>NaN</td>\n",
              "    </tr>\n",
              "    <tr>\n",
              "      <th>3</th>\n",
              "      <td>4a9d140df964a520d73720e3</td>\n",
              "      <td>Flat Black Coffee Company</td>\n",
              "      <td>[{'id': '4bf58dd8d48988d1e0931735', 'name': 'C...</td>\n",
              "      <td>v-1594627697</td>\n",
              "      <td>False</td>\n",
              "      <td>50 Broad St</td>\n",
              "      <td>at Milk St</td>\n",
              "      <td>42.358127</td>\n",
              "      <td>-71.053917</td>\n",
              "      <td>[{'label': 'display', 'lat': 42.35812714536935...</td>\n",
              "      <td>430</td>\n",
              "      <td>02109</td>\n",
              "      <td>US</td>\n",
              "      <td>Boston</td>\n",
              "      <td>MA</td>\n",
              "      <td>United States</td>\n",
              "      <td>[50 Broad St (at Milk St), Boston, MA 02109, U...</td>\n",
              "      <td>NaN</td>\n",
              "      <td>NaN</td>\n",
              "      <td>NaN</td>\n",
              "      <td>NaN</td>\n",
              "      <td>NaN</td>\n",
              "      <td>NaN</td>\n",
              "      <td>NaN</td>\n",
              "    </tr>\n",
              "    <tr>\n",
              "      <th>4</th>\n",
              "      <td>506ad575e4b0677a1fdc94b6</td>\n",
              "      <td>Flat Black Coffee Company</td>\n",
              "      <td>[{'id': '4bf58dd8d48988d1e0931735', 'name': 'C...</td>\n",
              "      <td>v-1594627697</td>\n",
              "      <td>False</td>\n",
              "      <td>260 Franklin St</td>\n",
              "      <td>NaN</td>\n",
              "      <td>42.356704</td>\n",
              "      <td>-71.053795</td>\n",
              "      <td>[{'label': 'display', 'lat': 42.35670390388845...</td>\n",
              "      <td>541</td>\n",
              "      <td>02110</td>\n",
              "      <td>US</td>\n",
              "      <td>Boston</td>\n",
              "      <td>MA</td>\n",
              "      <td>United States</td>\n",
              "      <td>[260 Franklin St, Boston, MA 02110, United Sta...</td>\n",
              "      <td>1315129</td>\n",
              "      <td>https://www.grubhub.com/restaurant/flat-black-...</td>\n",
              "      <td>grubhub</td>\n",
              "      <td>https://fastly.4sqi.net/img/general/cap/</td>\n",
              "      <td>[40, 50]</td>\n",
              "      <td>/delivery_provider_grubhub_20180129.png</td>\n",
              "      <td>NaN</td>\n",
              "    </tr>\n",
              "  </tbody>\n",
              "</table>\n",
              "</div>"
            ],
            "text/plain": [
              "                         id  ... venuePage.id\n",
              "0  40b28c80f964a520d6f71ee3  ...          NaN\n",
              "1  4b61f993f964a520752e2ae3  ...     34319963\n",
              "2  57079c6c498e3d4a7dcfbd84  ...          NaN\n",
              "3  4a9d140df964a520d73720e3  ...          NaN\n",
              "4  506ad575e4b0677a1fdc94b6  ...          NaN\n",
              "\n",
              "[5 rows x 24 columns]"
            ]
          },
          "metadata": {
            "tags": []
          },
          "execution_count": 42
        }
      ]
    },
    {
      "cell_type": "code",
      "metadata": {
        "id": "1XYaqPKMNIGf",
        "colab_type": "code",
        "colab": {
          "base_uri": "https://localhost:8080/",
          "height": 32
        },
        "outputId": "cb4e8f26-03bc-426b-f6f0-ec76251310a8"
      },
      "source": [
        "dataframe"
      ],
      "execution_count": 37,
      "outputs": [
        {
          "output_type": "execute_result",
          "data": {
            "text/html": [
              "<div>\n",
              "<style scoped>\n",
              "    .dataframe tbody tr th:only-of-type {\n",
              "        vertical-align: middle;\n",
              "    }\n",
              "\n",
              "    .dataframe tbody tr th {\n",
              "        vertical-align: top;\n",
              "    }\n",
              "\n",
              "    .dataframe thead th {\n",
              "        text-align: right;\n",
              "    }\n",
              "</style>\n",
              "<table border=\"1\" class=\"dataframe\">\n",
              "  <thead>\n",
              "    <tr style=\"text-align: right;\">\n",
              "      <th></th>\n",
              "    </tr>\n",
              "  </thead>\n",
              "  <tbody>\n",
              "  </tbody>\n",
              "</table>\n",
              "</div>"
            ],
            "text/plain": [
              "Empty DataFrame\n",
              "Columns: []\n",
              "Index: []"
            ]
          },
          "metadata": {
            "tags": []
          },
          "execution_count": 37
        }
      ]
    },
    {
      "cell_type": "markdown",
      "metadata": {
        "button": false,
        "deletable": true,
        "new_sheet": false,
        "run_control": {
          "read_only": false
        },
        "id": "ZYMb23OWlC3b",
        "colab_type": "text"
      },
      "source": [
        "#### Define information of interest and filter dataframe"
      ]
    },
    {
      "cell_type": "code",
      "metadata": {
        "button": false,
        "deletable": true,
        "new_sheet": false,
        "run_control": {
          "read_only": false
        },
        "scrolled": true,
        "id": "DXy7nHiflC3c",
        "colab_type": "code",
        "colab": {
          "base_uri": "https://localhost:8080/",
          "height": 979
        },
        "outputId": "eb99b9de-caf0-4e31-f6f0-40d93b44b734"
      },
      "source": [
        "# keep only columns that include venue name, and anything that is associated with location\n",
        "filtered_columns = ['name', 'categories'] + [col for col in dataframe.columns if col.startswith('location.')] + ['id']\n",
        "dataframe_filtered = dataframe.loc[:, filtered_columns]\n",
        "\n",
        "# function that extracts the category of the venue\n",
        "def get_category_type(row):\n",
        "    try:\n",
        "        categories_list = row['categories']\n",
        "    except:\n",
        "        categories_list = row['venue.categories']\n",
        "        \n",
        "    if len(categories_list) == 0:\n",
        "        return None\n",
        "    else:\n",
        "        return categories_list[0]['name']\n",
        "\n",
        "# filter the category for each row\n",
        "dataframe_filtered['categories'] = dataframe_filtered.apply(get_category_type, axis=1)\n",
        "\n",
        "# clean column names by keeping only last term\n",
        "dataframe_filtered.columns = [column.split('.')[-1] for column in dataframe_filtered.columns]\n",
        "\n",
        "dataframe_filtered"
      ],
      "execution_count": 43,
      "outputs": [
        {
          "output_type": "execute_result",
          "data": {
            "text/html": [
              "<div>\n",
              "<style scoped>\n",
              "    .dataframe tbody tr th:only-of-type {\n",
              "        vertical-align: middle;\n",
              "    }\n",
              "\n",
              "    .dataframe tbody tr th {\n",
              "        vertical-align: top;\n",
              "    }\n",
              "\n",
              "    .dataframe thead th {\n",
              "        text-align: right;\n",
              "    }\n",
              "</style>\n",
              "<table border=\"1\" class=\"dataframe\">\n",
              "  <thead>\n",
              "    <tr style=\"text-align: right;\">\n",
              "      <th></th>\n",
              "      <th>name</th>\n",
              "      <th>categories</th>\n",
              "      <th>address</th>\n",
              "      <th>crossStreet</th>\n",
              "      <th>lat</th>\n",
              "      <th>lng</th>\n",
              "      <th>labeledLatLngs</th>\n",
              "      <th>distance</th>\n",
              "      <th>postalCode</th>\n",
              "      <th>cc</th>\n",
              "      <th>city</th>\n",
              "      <th>state</th>\n",
              "      <th>country</th>\n",
              "      <th>formattedAddress</th>\n",
              "      <th>id</th>\n",
              "    </tr>\n",
              "  </thead>\n",
              "  <tbody>\n",
              "    <tr>\n",
              "      <th>0</th>\n",
              "      <td>Polcari's Coffee</td>\n",
              "      <td>Gourmet Shop</td>\n",
              "      <td>105 Salem St</td>\n",
              "      <td>at Parmenter St.</td>\n",
              "      <td>42.364125</td>\n",
              "      <td>-71.055513</td>\n",
              "      <td>[{'label': 'display', 'lat': 42.36412501908669...</td>\n",
              "      <td>487</td>\n",
              "      <td>02113</td>\n",
              "      <td>US</td>\n",
              "      <td>Boston</td>\n",
              "      <td>MA</td>\n",
              "      <td>United States</td>\n",
              "      <td>[105 Salem St (at Parmenter St.), Boston, MA 0...</td>\n",
              "      <td>40b28c80f964a520d6f71ee3</td>\n",
              "    </tr>\n",
              "    <tr>\n",
              "      <th>1</th>\n",
              "      <td>Capitol Coffee House</td>\n",
              "      <td>Breakfast Spot</td>\n",
              "      <td>122 Bowdoin St</td>\n",
              "      <td>at Ashburton Pl.</td>\n",
              "      <td>42.359140</td>\n",
              "      <td>-71.062860</td>\n",
              "      <td>[{'label': 'display', 'lat': 42.35914018730252...</td>\n",
              "      <td>395</td>\n",
              "      <td>02108</td>\n",
              "      <td>US</td>\n",
              "      <td>Boston</td>\n",
              "      <td>MA</td>\n",
              "      <td>United States</td>\n",
              "      <td>[122 Bowdoin St (at Ashburton Pl.), Boston, MA...</td>\n",
              "      <td>4b61f993f964a520752e2ae3</td>\n",
              "    </tr>\n",
              "    <tr>\n",
              "      <th>2</th>\n",
              "      <td>Render Coffee</td>\n",
              "      <td>Coffee Shop</td>\n",
              "      <td>121 Devonshire</td>\n",
              "      <td>btwn Water &amp; Milk St</td>\n",
              "      <td>42.357145</td>\n",
              "      <td>-71.057342</td>\n",
              "      <td>[{'label': 'display', 'lat': 42.35714521652015...</td>\n",
              "      <td>354</td>\n",
              "      <td>NaN</td>\n",
              "      <td>US</td>\n",
              "      <td>Boston</td>\n",
              "      <td>MA</td>\n",
              "      <td>United States</td>\n",
              "      <td>[121 Devonshire (btwn Water &amp; Milk St), Boston...</td>\n",
              "      <td>57079c6c498e3d4a7dcfbd84</td>\n",
              "    </tr>\n",
              "    <tr>\n",
              "      <th>3</th>\n",
              "      <td>Flat Black Coffee Company</td>\n",
              "      <td>Coffee Shop</td>\n",
              "      <td>50 Broad St</td>\n",
              "      <td>at Milk St</td>\n",
              "      <td>42.358127</td>\n",
              "      <td>-71.053917</td>\n",
              "      <td>[{'label': 'display', 'lat': 42.35812714536935...</td>\n",
              "      <td>430</td>\n",
              "      <td>02109</td>\n",
              "      <td>US</td>\n",
              "      <td>Boston</td>\n",
              "      <td>MA</td>\n",
              "      <td>United States</td>\n",
              "      <td>[50 Broad St (at Milk St), Boston, MA 02109, U...</td>\n",
              "      <td>4a9d140df964a520d73720e3</td>\n",
              "    </tr>\n",
              "    <tr>\n",
              "      <th>4</th>\n",
              "      <td>Flat Black Coffee Company</td>\n",
              "      <td>Coffee Shop</td>\n",
              "      <td>260 Franklin St</td>\n",
              "      <td>NaN</td>\n",
              "      <td>42.356704</td>\n",
              "      <td>-71.053795</td>\n",
              "      <td>[{'label': 'display', 'lat': 42.35670390388845...</td>\n",
              "      <td>541</td>\n",
              "      <td>02110</td>\n",
              "      <td>US</td>\n",
              "      <td>Boston</td>\n",
              "      <td>MA</td>\n",
              "      <td>United States</td>\n",
              "      <td>[260 Franklin St, Boston, MA 02110, United Sta...</td>\n",
              "      <td>506ad575e4b0677a1fdc94b6</td>\n",
              "    </tr>\n",
              "    <tr>\n",
              "      <th>5</th>\n",
              "      <td>Recreo Coffee Roasterie</td>\n",
              "      <td>Coffee Shop</td>\n",
              "      <td>1 City Hall Ave</td>\n",
              "      <td>NaN</td>\n",
              "      <td>42.360016</td>\n",
              "      <td>-71.058200</td>\n",
              "      <td>[{'label': 'display', 'lat': 42.360016, 'lng':...</td>\n",
              "      <td>27</td>\n",
              "      <td>02108</td>\n",
              "      <td>US</td>\n",
              "      <td>Boston</td>\n",
              "      <td>MA</td>\n",
              "      <td>United States</td>\n",
              "      <td>[1 City Hall Ave, Boston, MA 02108, United Sta...</td>\n",
              "      <td>5b2924603ba767002cdf864f</td>\n",
              "    </tr>\n",
              "    <tr>\n",
              "      <th>6</th>\n",
              "      <td>Triangle Coffee</td>\n",
              "      <td>Coffee Shop</td>\n",
              "      <td>1 City Hall Square</td>\n",
              "      <td>NaN</td>\n",
              "      <td>42.360329</td>\n",
              "      <td>-71.057991</td>\n",
              "      <td>[{'label': 'display', 'lat': 42.36032867431640...</td>\n",
              "      <td>26</td>\n",
              "      <td>02201</td>\n",
              "      <td>US</td>\n",
              "      <td>Boston</td>\n",
              "      <td>MA</td>\n",
              "      <td>United States</td>\n",
              "      <td>[1 City Hall Square, Boston, MA 02201, United ...</td>\n",
              "      <td>560eaf4f498e804a919109db</td>\n",
              "    </tr>\n",
              "    <tr>\n",
              "      <th>7</th>\n",
              "      <td>Coffee Zone</td>\n",
              "      <td>Convenience Store</td>\n",
              "      <td>15 New Sudbury St</td>\n",
              "      <td>NaN</td>\n",
              "      <td>42.361415</td>\n",
              "      <td>-71.059242</td>\n",
              "      <td>[{'label': 'display', 'lat': 42.361415, 'lng':...</td>\n",
              "      <td>151</td>\n",
              "      <td>02203</td>\n",
              "      <td>US</td>\n",
              "      <td>Boston</td>\n",
              "      <td>MA</td>\n",
              "      <td>United States</td>\n",
              "      <td>[15 New Sudbury St, Boston, MA 02203, United S...</td>\n",
              "      <td>4edf77a2aa1f92cba029d879</td>\n",
              "    </tr>\n",
              "    <tr>\n",
              "      <th>8</th>\n",
              "      <td>George Howell Coffee</td>\n",
              "      <td>Coffee Shop</td>\n",
              "      <td>100 Hanover St</td>\n",
              "      <td>NaN</td>\n",
              "      <td>42.361832</td>\n",
              "      <td>-71.057445</td>\n",
              "      <td>[{'label': 'display', 'lat': 42.361831810881, ...</td>\n",
              "      <td>188</td>\n",
              "      <td>02108</td>\n",
              "      <td>US</td>\n",
              "      <td>Boston</td>\n",
              "      <td>MA</td>\n",
              "      <td>United States</td>\n",
              "      <td>[100 Hanover St, Boston, MA 02108, United States]</td>\n",
              "      <td>55c7541b498e1c44d8c3e506</td>\n",
              "    </tr>\n",
              "    <tr>\n",
              "      <th>9</th>\n",
              "      <td>Boston King Coffee</td>\n",
              "      <td>Food</td>\n",
              "      <td>275 Washington St</td>\n",
              "      <td>NaN</td>\n",
              "      <td>42.357956</td>\n",
              "      <td>-71.058295</td>\n",
              "      <td>[{'label': 'display', 'lat': 42.357956, 'lng':...</td>\n",
              "      <td>255</td>\n",
              "      <td>02108</td>\n",
              "      <td>US</td>\n",
              "      <td>Boston</td>\n",
              "      <td>MA</td>\n",
              "      <td>United States</td>\n",
              "      <td>[275 Washington St, Boston, MA 02108, United S...</td>\n",
              "      <td>4f3202d519833175d6097c42</td>\n",
              "    </tr>\n",
              "    <tr>\n",
              "      <th>10</th>\n",
              "      <td>Lou's Coffee Shop</td>\n",
              "      <td>Food</td>\n",
              "      <td>1 Congress St</td>\n",
              "      <td>NaN</td>\n",
              "      <td>42.362770</td>\n",
              "      <td>-71.058487</td>\n",
              "      <td>[{'label': 'display', 'lat': 42.36277008056640...</td>\n",
              "      <td>280</td>\n",
              "      <td>02114</td>\n",
              "      <td>US</td>\n",
              "      <td>Boston</td>\n",
              "      <td>MA</td>\n",
              "      <td>United States</td>\n",
              "      <td>[1 Congress St, Boston, MA 02114, United States]</td>\n",
              "      <td>4f323d2519836c91c7c3dd5b</td>\n",
              "    </tr>\n",
              "    <tr>\n",
              "      <th>11</th>\n",
              "      <td>Red Barn Coffee Roasters</td>\n",
              "      <td>Coffee Shop</td>\n",
              "      <td>Faneuil Hall</td>\n",
              "      <td>NaN</td>\n",
              "      <td>42.360054</td>\n",
              "      <td>-71.056434</td>\n",
              "      <td>[{'label': 'display', 'lat': 42.36005390973289...</td>\n",
              "      <td>154</td>\n",
              "      <td>02109</td>\n",
              "      <td>US</td>\n",
              "      <td>Boston</td>\n",
              "      <td>MA</td>\n",
              "      <td>United States</td>\n",
              "      <td>[Faneuil Hall, Boston, MA 02109, United States]</td>\n",
              "      <td>4fc8a668e4b067bcc4919ef8</td>\n",
              "    </tr>\n",
              "    <tr>\n",
              "      <th>12</th>\n",
              "      <td>Snap Coffee</td>\n",
              "      <td>None</td>\n",
              "      <td>1 City Hall Square</td>\n",
              "      <td>NaN</td>\n",
              "      <td>42.357766</td>\n",
              "      <td>-71.059299</td>\n",
              "      <td>[{'label': 'display', 'lat': 42.357766, 'lng':...</td>\n",
              "      <td>289</td>\n",
              "      <td>02201</td>\n",
              "      <td>US</td>\n",
              "      <td>Boston</td>\n",
              "      <td>MA</td>\n",
              "      <td>United States</td>\n",
              "      <td>[1 City Hall Square, Boston, MA 02201, United ...</td>\n",
              "      <td>4cdcad6c7dc62c0fad58e8f2</td>\n",
              "    </tr>\n",
              "    <tr>\n",
              "      <th>13</th>\n",
              "      <td>Peet's Coffee and Tea</td>\n",
              "      <td>Coffee Shop</td>\n",
              "      <td>176 Federal St</td>\n",
              "      <td>NaN</td>\n",
              "      <td>42.356705</td>\n",
              "      <td>-71.056587</td>\n",
              "      <td>[{'label': 'display', 'lat': 42.35670471191406...</td>\n",
              "      <td>419</td>\n",
              "      <td>02110</td>\n",
              "      <td>US</td>\n",
              "      <td>Boston</td>\n",
              "      <td>MA</td>\n",
              "      <td>United States</td>\n",
              "      <td>[176 Federal St, Boston, MA 02110, United States]</td>\n",
              "      <td>4f3248f419836c91c7c8980b</td>\n",
              "    </tr>\n",
              "    <tr>\n",
              "      <th>14</th>\n",
              "      <td>Voltage Coffee</td>\n",
              "      <td>Café</td>\n",
              "      <td>33 Arch St</td>\n",
              "      <td>NaN</td>\n",
              "      <td>42.356619</td>\n",
              "      <td>-71.060133</td>\n",
              "      <td>[{'label': 'display', 'lat': 42.35661931981928...</td>\n",
              "      <td>431</td>\n",
              "      <td>02110</td>\n",
              "      <td>US</td>\n",
              "      <td>Boston</td>\n",
              "      <td>MA</td>\n",
              "      <td>United States</td>\n",
              "      <td>[33 Arch St, Boston, MA 02110, United States]</td>\n",
              "      <td>4bd991bb67b49c7455922214</td>\n",
              "    </tr>\n",
              "    <tr>\n",
              "      <th>15</th>\n",
              "      <td>The Mulls Coffee Bar</td>\n",
              "      <td>Café</td>\n",
              "      <td>40 Broad St</td>\n",
              "      <td>NaN</td>\n",
              "      <td>42.358406</td>\n",
              "      <td>-71.053947</td>\n",
              "      <td>[{'label': 'display', 'lat': 42.35840606689453...</td>\n",
              "      <td>412</td>\n",
              "      <td>02109</td>\n",
              "      <td>US</td>\n",
              "      <td>Boston</td>\n",
              "      <td>MA</td>\n",
              "      <td>United States</td>\n",
              "      <td>[40 Broad St, Boston, MA 02109, United States]</td>\n",
              "      <td>4e96e86d8b811f0c6667de76</td>\n",
              "    </tr>\n",
              "    <tr>\n",
              "      <th>16</th>\n",
              "      <td>Piadina Cafe &amp; Coffee Shop</td>\n",
              "      <td>Café</td>\n",
              "      <td>75 State St</td>\n",
              "      <td>NaN</td>\n",
              "      <td>42.358391</td>\n",
              "      <td>-71.055693</td>\n",
              "      <td>[{'label': 'display', 'lat': 42.35839138433851...</td>\n",
              "      <td>297</td>\n",
              "      <td>02109</td>\n",
              "      <td>US</td>\n",
              "      <td>Boston</td>\n",
              "      <td>MA</td>\n",
              "      <td>United States</td>\n",
              "      <td>[75 State St, Boston, MA 02109, United States]</td>\n",
              "      <td>5339693b498eec22b7c7da4d</td>\n",
              "    </tr>\n",
              "    <tr>\n",
              "      <th>17</th>\n",
              "      <td>Bills Coffee Shop</td>\n",
              "      <td>Coffee Shop</td>\n",
              "      <td>19 Staniford St</td>\n",
              "      <td>NaN</td>\n",
              "      <td>42.361981</td>\n",
              "      <td>-71.063783</td>\n",
              "      <td>[{'label': 'display', 'lat': 42.361981, 'lng':...</td>\n",
              "      <td>490</td>\n",
              "      <td>02114</td>\n",
              "      <td>US</td>\n",
              "      <td>Boston</td>\n",
              "      <td>MA</td>\n",
              "      <td>United States</td>\n",
              "      <td>[19 Staniford St, Boston, MA 02114, United Sta...</td>\n",
              "      <td>4f32846319836c91c7df84b6</td>\n",
              "    </tr>\n",
              "    <tr>\n",
              "      <th>18</th>\n",
              "      <td>Intelligentsia Coffee</td>\n",
              "      <td>Coffee Shop</td>\n",
              "      <td>225 Franklin St</td>\n",
              "      <td>NaN</td>\n",
              "      <td>42.356274</td>\n",
              "      <td>-71.054529</td>\n",
              "      <td>[{'label': 'display', 'lat': 42.35627374506991...</td>\n",
              "      <td>540</td>\n",
              "      <td>02110</td>\n",
              "      <td>US</td>\n",
              "      <td>Boston</td>\n",
              "      <td>MA</td>\n",
              "      <td>United States</td>\n",
              "      <td>[225 Franklin St, Boston, MA 02110, United Sta...</td>\n",
              "      <td>5b786856e727c4002487003b</td>\n",
              "    </tr>\n",
              "    <tr>\n",
              "      <th>19</th>\n",
              "      <td>Red Barn Coffee</td>\n",
              "      <td>Coffee Shop</td>\n",
              "      <td>100 Federal St</td>\n",
              "      <td>NaN</td>\n",
              "      <td>42.355064</td>\n",
              "      <td>-71.055946</td>\n",
              "      <td>[{'label': 'entrance', 'lat': 42.355059, 'lng'...</td>\n",
              "      <td>608</td>\n",
              "      <td>02110</td>\n",
              "      <td>US</td>\n",
              "      <td>Boston</td>\n",
              "      <td>MA</td>\n",
              "      <td>United States</td>\n",
              "      <td>[100 Federal St, Boston, MA 02110, United States]</td>\n",
              "      <td>5abce4d29cadd93b8c8a3c17</td>\n",
              "    </tr>\n",
              "    <tr>\n",
              "      <th>20</th>\n",
              "      <td>Ogawa Coffee Boston</td>\n",
              "      <td>Coffee Shop</td>\n",
              "      <td>10 Milk St</td>\n",
              "      <td>Hawley</td>\n",
              "      <td>42.356674</td>\n",
              "      <td>-71.058109</td>\n",
              "      <td>[{'label': 'display', 'lat': 42.35667419913848...</td>\n",
              "      <td>398</td>\n",
              "      <td>02108</td>\n",
              "      <td>US</td>\n",
              "      <td>Boston</td>\n",
              "      <td>MA</td>\n",
              "      <td>United States</td>\n",
              "      <td>[10 Milk St (Hawley), Boston, MA 02108, United...</td>\n",
              "      <td>555a7a8f498eb839923af583</td>\n",
              "    </tr>\n",
              "    <tr>\n",
              "      <th>21</th>\n",
              "      <td>Flat Black Coffee Company</td>\n",
              "      <td>Coffee Shop</td>\n",
              "      <td>255 State St</td>\n",
              "      <td>NaN</td>\n",
              "      <td>42.359230</td>\n",
              "      <td>-71.051321</td>\n",
              "      <td>[{'label': 'display', 'lat': 42.35922980883426...</td>\n",
              "      <td>584</td>\n",
              "      <td>02109</td>\n",
              "      <td>US</td>\n",
              "      <td>Boston</td>\n",
              "      <td>MA</td>\n",
              "      <td>United States</td>\n",
              "      <td>[255 State St, Boston, MA 02109, United States]</td>\n",
              "      <td>5672cdbb498e330ca7819f73</td>\n",
              "    </tr>\n",
              "    <tr>\n",
              "      <th>22</th>\n",
              "      <td>Tradesman Coffee Shop and Lounge</td>\n",
              "      <td>Coffee Shop</td>\n",
              "      <td>89 Broad St</td>\n",
              "      <td>NaN</td>\n",
              "      <td>42.357086</td>\n",
              "      <td>-71.053200</td>\n",
              "      <td>[{'label': 'display', 'lat': 42.357086, 'lng':...</td>\n",
              "      <td>547</td>\n",
              "      <td>02110</td>\n",
              "      <td>US</td>\n",
              "      <td>Boston</td>\n",
              "      <td>MA</td>\n",
              "      <td>United States</td>\n",
              "      <td>[89 Broad St, Boston, MA 02110, United States]</td>\n",
              "      <td>5c2397c9911fc4002cbb6b45</td>\n",
              "    </tr>\n",
              "    <tr>\n",
              "      <th>23</th>\n",
              "      <td>Ziggy's Coffee Bar</td>\n",
              "      <td>Coffee Shop</td>\n",
              "      <td>102 Tremont St</td>\n",
              "      <td>Bromfield St.</td>\n",
              "      <td>42.357176</td>\n",
              "      <td>-71.061205</td>\n",
              "      <td>[{'label': 'display', 'lat': 42.35717625086499...</td>\n",
              "      <td>418</td>\n",
              "      <td>02108</td>\n",
              "      <td>US</td>\n",
              "      <td>Boston</td>\n",
              "      <td>MA</td>\n",
              "      <td>United States</td>\n",
              "      <td>[102 Tremont St (Bromfield St.), Boston, MA 02...</td>\n",
              "      <td>57407fb2498e4398968539dd</td>\n",
              "    </tr>\n",
              "    <tr>\n",
              "      <th>24</th>\n",
              "      <td>Starbucks</td>\n",
              "      <td>Coffee Shop</td>\n",
              "      <td>250 Washington St</td>\n",
              "      <td>NaN</td>\n",
              "      <td>42.357895</td>\n",
              "      <td>-71.057716</td>\n",
              "      <td>[{'label': 'display', 'lat': 42.35789489746094...</td>\n",
              "      <td>266</td>\n",
              "      <td>02108</td>\n",
              "      <td>US</td>\n",
              "      <td>Boston</td>\n",
              "      <td>MA</td>\n",
              "      <td>United States</td>\n",
              "      <td>[250 Washington St, Boston, MA 02108, United S...</td>\n",
              "      <td>4e4c3925bd413c4cc667c6ec</td>\n",
              "    </tr>\n",
              "    <tr>\n",
              "      <th>25</th>\n",
              "      <td>Bromfield Brewhouse</td>\n",
              "      <td>Coffee Shop</td>\n",
              "      <td>45 Bromfield St</td>\n",
              "      <td>NaN</td>\n",
              "      <td>42.356968</td>\n",
              "      <td>-71.060532</td>\n",
              "      <td>[{'label': 'entrance', 'lat': 42.356809, 'lng'...</td>\n",
              "      <td>409</td>\n",
              "      <td>02108</td>\n",
              "      <td>US</td>\n",
              "      <td>Boston</td>\n",
              "      <td>MA</td>\n",
              "      <td>United States</td>\n",
              "      <td>[45 Bromfield St, Boston, MA 02108, United Sta...</td>\n",
              "      <td>4c0d46c27189c928e4c1d6b6</td>\n",
              "    </tr>\n",
              "    <tr>\n",
              "      <th>26</th>\n",
              "      <td>Starbucks</td>\n",
              "      <td>Coffee Shop</td>\n",
              "      <td>63-65 Court St</td>\n",
              "      <td>at Cambridge St</td>\n",
              "      <td>42.359384</td>\n",
              "      <td>-71.059302</td>\n",
              "      <td>[{'label': 'display', 'lat': 42.35938374, 'lng...</td>\n",
              "      <td>127</td>\n",
              "      <td>02108</td>\n",
              "      <td>US</td>\n",
              "      <td>Boston</td>\n",
              "      <td>MA</td>\n",
              "      <td>United States</td>\n",
              "      <td>[63-65 Court St (at Cambridge St), Boston, MA ...</td>\n",
              "      <td>4abe640bf964a5202d8d20e3</td>\n",
              "    </tr>\n",
              "    <tr>\n",
              "      <th>27</th>\n",
              "      <td>Well Coffeehouse</td>\n",
              "      <td>Café</td>\n",
              "      <td>1 State St</td>\n",
              "      <td>NaN</td>\n",
              "      <td>42.358467</td>\n",
              "      <td>-71.057648</td>\n",
              "      <td>[{'label': 'display', 'lat': 42.35846710205078...</td>\n",
              "      <td>205</td>\n",
              "      <td>02109</td>\n",
              "      <td>US</td>\n",
              "      <td>Boston</td>\n",
              "      <td>MA</td>\n",
              "      <td>United States</td>\n",
              "      <td>[1 State St, Boston, MA 02109, United States]</td>\n",
              "      <td>5bd8f4b4f709c1002cc147cd</td>\n",
              "    </tr>\n",
              "    <tr>\n",
              "      <th>28</th>\n",
              "      <td>Cuppacoffee</td>\n",
              "      <td>Coffee Shop</td>\n",
              "      <td>1 Merrimac St</td>\n",
              "      <td>NaN</td>\n",
              "      <td>42.363144</td>\n",
              "      <td>-71.059830</td>\n",
              "      <td>[{'label': 'display', 'lat': 42.36314415772708...</td>\n",
              "      <td>345</td>\n",
              "      <td>02114</td>\n",
              "      <td>US</td>\n",
              "      <td>Boston</td>\n",
              "      <td>MA</td>\n",
              "      <td>United States</td>\n",
              "      <td>[1 Merrimac St, Boston, MA 02114, United States]</td>\n",
              "      <td>51a49c41498e034cea66e562</td>\n",
              "    </tr>\n",
              "    <tr>\n",
              "      <th>29</th>\n",
              "      <td>One Ashburton Place</td>\n",
              "      <td>Office</td>\n",
              "      <td>1 Ashburton Pl</td>\n",
              "      <td>at Bowdoin St.</td>\n",
              "      <td>42.359583</td>\n",
              "      <td>-71.062651</td>\n",
              "      <td>[{'label': 'display', 'lat': 42.35958312667762...</td>\n",
              "      <td>366</td>\n",
              "      <td>02108</td>\n",
              "      <td>US</td>\n",
              "      <td>Boston</td>\n",
              "      <td>MA</td>\n",
              "      <td>United States</td>\n",
              "      <td>[1 Ashburton Pl (at Bowdoin St.), Boston, MA 0...</td>\n",
              "      <td>4b69ca78f964a52072b42be3</td>\n",
              "    </tr>\n",
              "  </tbody>\n",
              "</table>\n",
              "</div>"
            ],
            "text/plain": [
              "                                name  ...                        id\n",
              "0                   Polcari's Coffee  ...  40b28c80f964a520d6f71ee3\n",
              "1               Capitol Coffee House  ...  4b61f993f964a520752e2ae3\n",
              "2                      Render Coffee  ...  57079c6c498e3d4a7dcfbd84\n",
              "3          Flat Black Coffee Company  ...  4a9d140df964a520d73720e3\n",
              "4          Flat Black Coffee Company  ...  506ad575e4b0677a1fdc94b6\n",
              "5            Recreo Coffee Roasterie  ...  5b2924603ba767002cdf864f\n",
              "6                    Triangle Coffee  ...  560eaf4f498e804a919109db\n",
              "7                        Coffee Zone  ...  4edf77a2aa1f92cba029d879\n",
              "8               George Howell Coffee  ...  55c7541b498e1c44d8c3e506\n",
              "9                 Boston King Coffee  ...  4f3202d519833175d6097c42\n",
              "10                 Lou's Coffee Shop  ...  4f323d2519836c91c7c3dd5b\n",
              "11          Red Barn Coffee Roasters  ...  4fc8a668e4b067bcc4919ef8\n",
              "12                       Snap Coffee  ...  4cdcad6c7dc62c0fad58e8f2\n",
              "13             Peet's Coffee and Tea  ...  4f3248f419836c91c7c8980b\n",
              "14                    Voltage Coffee  ...  4bd991bb67b49c7455922214\n",
              "15              The Mulls Coffee Bar  ...  4e96e86d8b811f0c6667de76\n",
              "16        Piadina Cafe & Coffee Shop  ...  5339693b498eec22b7c7da4d\n",
              "17                 Bills Coffee Shop  ...  4f32846319836c91c7df84b6\n",
              "18             Intelligentsia Coffee  ...  5b786856e727c4002487003b\n",
              "19                   Red Barn Coffee  ...  5abce4d29cadd93b8c8a3c17\n",
              "20               Ogawa Coffee Boston  ...  555a7a8f498eb839923af583\n",
              "21         Flat Black Coffee Company  ...  5672cdbb498e330ca7819f73\n",
              "22  Tradesman Coffee Shop and Lounge  ...  5c2397c9911fc4002cbb6b45\n",
              "23                Ziggy's Coffee Bar  ...  57407fb2498e4398968539dd\n",
              "24                         Starbucks  ...  4e4c3925bd413c4cc667c6ec\n",
              "25               Bromfield Brewhouse  ...  4c0d46c27189c928e4c1d6b6\n",
              "26                         Starbucks  ...  4abe640bf964a5202d8d20e3\n",
              "27                  Well Coffeehouse  ...  5bd8f4b4f709c1002cc147cd\n",
              "28                       Cuppacoffee  ...  51a49c41498e034cea66e562\n",
              "29               One Ashburton Place  ...  4b69ca78f964a52072b42be3\n",
              "\n",
              "[30 rows x 15 columns]"
            ]
          },
          "metadata": {
            "tags": []
          },
          "execution_count": 43
        }
      ]
    },
    {
      "cell_type": "markdown",
      "metadata": {
        "button": false,
        "deletable": true,
        "new_sheet": false,
        "run_control": {
          "read_only": false
        },
        "id": "GJl30GqslC3d",
        "colab_type": "text"
      },
      "source": [
        "#### Let's visualize the Italian restaurants that are nearby"
      ]
    },
    {
      "cell_type": "code",
      "metadata": {
        "button": false,
        "deletable": true,
        "new_sheet": false,
        "run_control": {
          "read_only": false
        },
        "id": "FByVBqL4lC3d",
        "colab_type": "code",
        "colab": {
          "base_uri": "https://localhost:8080/",
          "height": 544
        },
        "outputId": "614c5698-f2d6-404a-c65d-f8576ba37793"
      },
      "source": [
        "dataframe_filtered.name"
      ],
      "execution_count": 13,
      "outputs": [
        {
          "output_type": "execute_result",
          "data": {
            "text/plain": [
              "0                     Polcari's Coffee\n",
              "1                 Capitol Coffee House\n",
              "2                        Render Coffee\n",
              "3              Recreo Coffee Roasterie\n",
              "4            Flat Black Coffee Company\n",
              "5            Flat Black Coffee Company\n",
              "6                      Triangle Coffee\n",
              "7                          Coffee Zone\n",
              "8                 George Howell Coffee\n",
              "9                   Boston King Coffee\n",
              "10                   Lou's Coffee Shop\n",
              "11            Red Barn Coffee Roasters\n",
              "12                         Snap Coffee\n",
              "13               Peet's Coffee and Tea\n",
              "14                      Voltage Coffee\n",
              "15                The Mulls Coffee Bar\n",
              "16          Piadina Cafe & Coffee Shop\n",
              "17                   Bills Coffee Shop\n",
              "18               Intelligentsia Coffee\n",
              "19                 Ogawa Coffee Boston\n",
              "20                     Red Barn Coffee\n",
              "21           Flat Black Coffee Company\n",
              "22    Tradesman Coffee Shop and Lounge\n",
              "23                  Ziggy's Coffee Bar\n",
              "24                           Starbucks\n",
              "25                 Bromfield Brewhouse\n",
              "26                    Well Coffeehouse\n",
              "27                         Cuppacoffee\n",
              "28                           Starbucks\n",
              "29                 One Ashburton Place\n",
              "Name: name, dtype: object"
            ]
          },
          "metadata": {
            "tags": []
          },
          "execution_count": 13
        }
      ]
    },
    {
      "cell_type": "code",
      "metadata": {
        "button": false,
        "deletable": true,
        "new_sheet": false,
        "run_control": {
          "read_only": false
        },
        "scrolled": false,
        "id": "GfZhiOOHlC3g",
        "colab_type": "code",
        "colab": {
          "base_uri": "https://localhost:8080/",
          "height": 232
        },
        "outputId": "67c0ce39-f4c5-4a16-8169-ec5432f0b129"
      },
      "source": [
        "venues_map = folium.Map(location=[latitude, longitude], zoom_start=13) # generate map centred around the Conrad Hotel\n",
        "\n",
        "# add a red circle marker to represent the Conrad Hotel\n",
        "folium.features.CircleMarker(\n",
        "    [latitude, longitude],\n",
        "    radius=10,\n",
        "    color='red',\n",
        "    popup='Conrad Hotel',\n",
        "    fill = True,\n",
        "    fill_color = 'red',\n",
        "    fill_opacity = 0.6\n",
        ").add_to(venues_map)\n",
        "\n",
        "# add the Italian restaurants as blue circle markers\n",
        "for lat, lng, label in zip(dataframe_filtered.lat, dataframe_filtered.lng, dataframe_filtered.categories):\n",
        "    folium.features.CircleMarker(\n",
        "        [lat, lng],\n",
        "        radius=5,\n",
        "        color='blue',\n",
        "        popup=label,\n",
        "        fill = True,\n",
        "        fill_color='blue',\n",
        "        fill_opacity=0.6\n",
        "    ).add_to(venues_map)\n",
        "\n",
        "# display map\n",
        "venues_map"
      ],
      "execution_count": 14,
      "outputs": [
        {
          "output_type": "error",
          "ename": "AttributeError",
          "evalue": "ignored",
          "traceback": [
            "\u001b[0;31m---------------------------------------------------------------------------\u001b[0m",
            "\u001b[0;31mAttributeError\u001b[0m                            Traceback (most recent call last)",
            "\u001b[0;32m<ipython-input-14-84dd12227b0f>\u001b[0m in \u001b[0;36m<module>\u001b[0;34m()\u001b[0m\n\u001b[1;32m      2\u001b[0m \u001b[0;34m\u001b[0m\u001b[0m\n\u001b[1;32m      3\u001b[0m \u001b[0;31m# add a red circle marker to represent the Conrad Hotel\u001b[0m\u001b[0;34m\u001b[0m\u001b[0;34m\u001b[0m\u001b[0;34m\u001b[0m\u001b[0m\n\u001b[0;32m----> 4\u001b[0;31m folium.features.CircleMarker(\n\u001b[0m\u001b[1;32m      5\u001b[0m     \u001b[0;34m[\u001b[0m\u001b[0mlatitude\u001b[0m\u001b[0;34m,\u001b[0m \u001b[0mlongitude\u001b[0m\u001b[0;34m]\u001b[0m\u001b[0;34m,\u001b[0m\u001b[0;34m\u001b[0m\u001b[0;34m\u001b[0m\u001b[0m\n\u001b[1;32m      6\u001b[0m     \u001b[0mradius\u001b[0m\u001b[0;34m=\u001b[0m\u001b[0;36m10\u001b[0m\u001b[0;34m,\u001b[0m\u001b[0;34m\u001b[0m\u001b[0;34m\u001b[0m\u001b[0m\n",
            "\u001b[0;31mAttributeError\u001b[0m: module 'folium.features' has no attribute 'CircleMarker'"
          ]
        }
      ]
    },
    {
      "cell_type": "markdown",
      "metadata": {
        "button": false,
        "deletable": true,
        "new_sheet": false,
        "run_control": {
          "read_only": false
        },
        "id": "AqEQgpsvlC3j",
        "colab_type": "text"
      },
      "source": [
        "   "
      ]
    },
    {
      "cell_type": "markdown",
      "metadata": {
        "button": false,
        "deletable": true,
        "new_sheet": false,
        "run_control": {
          "read_only": false
        },
        "id": "zGFNzK3IlC3k",
        "colab_type": "text"
      },
      "source": [
        "<a id=\"item2\"></a>"
      ]
    },
    {
      "cell_type": "markdown",
      "metadata": {
        "button": false,
        "deletable": true,
        "new_sheet": false,
        "run_control": {
          "read_only": false
        },
        "id": "nV-MgFielC3k",
        "colab_type": "text"
      },
      "source": [
        "## 2. Explore a Given Venue\n",
        "> `https://api.foursquare.com/v2/venues/`**VENUE_ID**`?client_id=`**CLIENT_ID**`&client_secret=`**CLIENT_SECRET**`&v=`**VERSION**"
      ]
    },
    {
      "cell_type": "markdown",
      "metadata": {
        "button": false,
        "deletable": true,
        "new_sheet": false,
        "run_control": {
          "read_only": false
        },
        "id": "O9V2wHVzlC3k",
        "colab_type": "text"
      },
      "source": [
        "### A. Let's explore the closest Italian restaurant -- _Harry's Italian Pizza Bar_"
      ]
    },
    {
      "cell_type": "code",
      "metadata": {
        "button": false,
        "deletable": true,
        "new_sheet": false,
        "run_control": {
          "read_only": false
        },
        "id": "x2mIu1CGlC3k",
        "colab_type": "code",
        "colab": {
          "base_uri": "https://localhost:8080/",
          "height": 37
        },
        "outputId": "31884a0d-4ade-40f3-b169-fa6a53f68b81"
      },
      "source": [
        "venue_id = '4fa862b3e4b0ebff2f749f06' # ID of Harry's Italian Pizza Bar\n",
        "url = 'https://api.foursquare.com/v2/venues/{}?client_id={}&client_secret={}&v={}'.format(venue_id, CLIENT_ID, CLIENT_SECRET, VERSION)\n",
        "url"
      ],
      "execution_count": 25,
      "outputs": [
        {
          "output_type": "execute_result",
          "data": {
            "application/vnd.google.colaboratory.intrinsic": {
              "type": "string"
            },
            "text/plain": [
              "'https://api.foursquare.com/v2/venues/4fa862b3e4b0ebff2f749f06?client_id=3RWFKNJMVKQX035E1ETMWG4TP1EDN1ODJJLGXECYG0OY1YDO&client_secret=5WBQS5BQO5D5HQKACC3UT123NXJAQGRE0NC5ZS2WNHHRSOU1&v=20180604'"
            ]
          },
          "metadata": {
            "tags": []
          },
          "execution_count": 25
        }
      ]
    },
    {
      "cell_type": "markdown",
      "metadata": {
        "button": false,
        "deletable": true,
        "new_sheet": false,
        "run_control": {
          "read_only": false
        },
        "id": "d1_qcoNqlC3o",
        "colab_type": "text"
      },
      "source": [
        "#### Send GET request for result"
      ]
    },
    {
      "cell_type": "code",
      "metadata": {
        "button": false,
        "deletable": true,
        "new_sheet": false,
        "run_control": {
          "read_only": false
        },
        "id": "eqTxj_hblC3p",
        "colab_type": "code",
        "colab": {
          "base_uri": "https://localhost:8080/",
          "height": 1000
        },
        "outputId": "7c03a432-a02d-44f5-9b18-ce6aa24eb3bc"
      },
      "source": [
        "result = requests.get(url).json()\n",
        "print(result['response']['venue'].keys())\n",
        "result['response']['venue']"
      ],
      "execution_count": 26,
      "outputs": [
        {
          "output_type": "stream",
          "text": [
            "dict_keys(['id', 'name', 'contact', 'location', 'canonicalUrl', 'categories', 'verified', 'stats', 'url', 'price', 'hasMenu', 'likes', 'dislike', 'ok', 'rating', 'ratingColor', 'ratingSignals', 'menu', 'allowMenuUrlEdit', 'beenHere', 'specials', 'photos', 'reasons', 'hereNow', 'createdAt', 'tips', 'shortUrl', 'timeZone', 'listed', 'hours', 'popular', 'seasonalHours', 'defaultHours', 'pageUpdates', 'inbox', 'attributes', 'bestPhoto', 'colors'])\n"
          ],
          "name": "stdout"
        },
        {
          "output_type": "execute_result",
          "data": {
            "text/plain": [
              "{'allowMenuUrlEdit': True,\n",
              " 'attributes': {'groups': [{'count': 1,\n",
              "    'items': [{'displayName': 'Price', 'displayValue': '$$', 'priceTier': 2}],\n",
              "    'name': 'Price',\n",
              "    'summary': '$$',\n",
              "    'type': 'price'},\n",
              "   {'count': 7,\n",
              "    'items': [{'displayName': 'Credit Cards',\n",
              "      'displayValue': 'Yes (incl. American Express)'}],\n",
              "    'name': 'Credit Cards',\n",
              "    'summary': 'Credit Cards',\n",
              "    'type': 'payments'},\n",
              "   {'count': 1,\n",
              "    'items': [{'displayName': 'Outdoor Seating', 'displayValue': 'Yes'}],\n",
              "    'name': 'Outdoor Seating',\n",
              "    'summary': 'Outdoor Seating',\n",
              "    'type': 'outdoorSeating'},\n",
              "   {'count': 8,\n",
              "    'items': [{'displayName': 'Brunch', 'displayValue': 'Brunch'},\n",
              "     {'displayName': 'Lunch', 'displayValue': 'Lunch'},\n",
              "     {'displayName': 'Dinner', 'displayValue': 'Dinner'},\n",
              "     {'displayName': 'Happy Hour', 'displayValue': 'Happy Hour'}],\n",
              "    'name': 'Menus',\n",
              "    'summary': 'Happy Hour, Brunch & more',\n",
              "    'type': 'serves'},\n",
              "   {'count': 5,\n",
              "    'items': [{'displayName': 'Beer', 'displayValue': 'Beer'},\n",
              "     {'displayName': 'Wine', 'displayValue': 'Wine'},\n",
              "     {'displayName': 'Cocktails', 'displayValue': 'Cocktails'}],\n",
              "    'name': 'Drinks',\n",
              "    'summary': 'Beer, Wine & Cocktails',\n",
              "    'type': 'drinks'}]},\n",
              " 'beenHere': {'count': 0,\n",
              "  'lastCheckinExpiredAt': 0,\n",
              "  'marked': False,\n",
              "  'unconfirmedCount': 0},\n",
              " 'bestPhoto': {'createdAt': 1336776717,\n",
              "  'height': 640,\n",
              "  'id': '4fad980de4b091b4626c3633',\n",
              "  'prefix': 'https://fastly.4sqi.net/img/general/',\n",
              "  'source': {'name': 'Foursquare for Android',\n",
              "   'url': 'https://foursquare.com/download/#/android'},\n",
              "  'suffix': '/ya1iQFI7pLjuIJp1PGDKlrZS3OJdHCF7tpILMmjv_2w.jpg',\n",
              "  'visibility': 'public',\n",
              "  'width': 480},\n",
              " 'canonicalUrl': 'https://foursquare.com/v/harrys-italian-pizza-bar/4fa862b3e4b0ebff2f749f06',\n",
              " 'categories': [{'icon': {'prefix': 'https://ss3.4sqi.net/img/categories_v2/food/pizza_',\n",
              "    'suffix': '.png'},\n",
              "   'id': '4bf58dd8d48988d1ca941735',\n",
              "   'name': 'Pizza Place',\n",
              "   'pluralName': 'Pizza Places',\n",
              "   'primary': True,\n",
              "   'shortName': 'Pizza'},\n",
              "  {'icon': {'prefix': 'https://ss3.4sqi.net/img/categories_v2/food/italian_',\n",
              "    'suffix': '.png'},\n",
              "   'id': '4bf58dd8d48988d110941735',\n",
              "   'name': 'Italian Restaurant',\n",
              "   'pluralName': 'Italian Restaurants',\n",
              "   'shortName': 'Italian'}],\n",
              " 'colors': {'algoVersion': 3,\n",
              "  'highlightColor': {'photoId': '4fad980de4b091b4626c3633',\n",
              "   'value': -13619152},\n",
              "  'highlightTextColor': {'photoId': '4fad980de4b091b4626c3633', 'value': -1}},\n",
              " 'contact': {'formattedPhone': '(212) 608-1007', 'phone': '2126081007'},\n",
              " 'createdAt': 1336435379,\n",
              " 'defaultHours': {'dayData': [],\n",
              "  'isLocalHoliday': False,\n",
              "  'isOpen': False,\n",
              "  'richStatus': {'entities': [], 'text': 'Closed until 11:30 AM'},\n",
              "  'status': 'Closed until 11:30 AM',\n",
              "  'timeframes': [{'days': 'Mon–Wed, Sun',\n",
              "    'includesToday': True,\n",
              "    'open': [{'renderedTime': '11:30 AM–11:00 PM'}],\n",
              "    'segments': []},\n",
              "   {'days': 'Thu–Sat',\n",
              "    'open': [{'renderedTime': '11:30 AM–Midnight'}],\n",
              "    'segments': []}]},\n",
              " 'dislike': False,\n",
              " 'hasMenu': True,\n",
              " 'hereNow': {'count': 0, 'groups': [], 'summary': 'Nobody here'},\n",
              " 'hours': {'dayData': [],\n",
              "  'isLocalHoliday': False,\n",
              "  'isOpen': False,\n",
              "  'richStatus': {'entities': [], 'text': 'Closed until 11:30 AM'},\n",
              "  'status': 'Closed until 11:30 AM',\n",
              "  'timeframes': [{'days': 'Mon–Wed, Sun',\n",
              "    'includesToday': True,\n",
              "    'open': [{'renderedTime': '11:30 AM–11:00 PM'}],\n",
              "    'segments': []},\n",
              "   {'days': 'Thu–Sat',\n",
              "    'open': [{'renderedTime': '11:30 AM–Midnight'}],\n",
              "    'segments': []}]},\n",
              " 'id': '4fa862b3e4b0ebff2f749f06',\n",
              " 'inbox': {'count': 0, 'items': []},\n",
              " 'likes': {'count': 120,\n",
              "  'groups': [{'count': 120, 'items': [], 'type': 'others'}],\n",
              "  'summary': '120 Likes'},\n",
              " 'listed': {'count': 54,\n",
              "  'groups': [{'count': 54,\n",
              "    'items': [{'canonicalUrl': 'https://foursquare.com/becca_mcarthur/list/manhattan-haunts',\n",
              "      'collaborative': False,\n",
              "      'createdAt': 1336094672,\n",
              "      'description': '',\n",
              "      'editable': False,\n",
              "      'followers': {'count': 22},\n",
              "      'id': '4fa32fd0e4b04193744746b1',\n",
              "      'listItems': {'count': 187,\n",
              "       'items': [{'createdAt': 1342934485,\n",
              "         'id': 'v4fa862b3e4b0ebff2f749f06'}]},\n",
              "      'name': 'Manhattan Haunts',\n",
              "      'photo': {'createdAt': 1317849414,\n",
              "       'height': 330,\n",
              "       'id': '4e8cc9461081e3b3544e12e5',\n",
              "       'prefix': 'https://fastly.4sqi.net/img/general/',\n",
              "       'suffix': '/0NLVU2HC1JF4DXIMKWUFW3QBUT31DC11EFNYYHMJG3NDWAPS.jpg',\n",
              "       'user': {'firstName': 'Time Out New York',\n",
              "        'id': '742542',\n",
              "        'photo': {'prefix': 'https://fastly.4sqi.net/img/user/',\n",
              "         'suffix': '/XXHKCBSQHBORZNSR.jpg'},\n",
              "        'type': 'page'},\n",
              "       'visibility': 'public',\n",
              "       'width': 492},\n",
              "      'public': True,\n",
              "      'type': 'others',\n",
              "      'updatedAt': 1380845377,\n",
              "      'url': '/becca_mcarthur/list/manhattan-haunts',\n",
              "      'user': {'firstName': 'Becca',\n",
              "       'id': '24592223',\n",
              "       'lastName': 'M',\n",
              "       'photo': {'prefix': 'https://fastly.4sqi.net/img/user/',\n",
              "        'suffix': '/24592223-RAW2UYM0GIB1U40K.jpg'}}},\n",
              "     {'canonicalUrl': 'https://foursquare.com/kinosfault/list/usa-nyc-man-fidi',\n",
              "      'collaborative': False,\n",
              "      'createdAt': 1336836475,\n",
              "      'description': 'Where to go for decent eats in the restaurant wasteland of Downtown NYC aka FiDi, along with Tribeca & Battery Park City.',\n",
              "      'editable': False,\n",
              "      'followers': {'count': 20},\n",
              "      'id': '4fae817be4b085f6b2a74d19',\n",
              "      'listItems': {'count': 273,\n",
              "       'items': [{'createdAt': 1373909433,\n",
              "         'id': 'v4fa862b3e4b0ebff2f749f06'}]},\n",
              "      'name': 'USA NYC MAN FiDi',\n",
              "      'photo': {'createdAt': 1436043666,\n",
              "       'height': 960,\n",
              "       'id': '55984992498e13ba75e353bb',\n",
              "       'prefix': 'https://fastly.4sqi.net/img/general/',\n",
              "       'suffix': '/12113441_iOa6Uh-Xi8bhj2-gpzkkw8MKiAIs7RmOcz_RM7m8ink.jpg',\n",
              "       'user': {'firstName': 'Kino',\n",
              "        'id': '12113441',\n",
              "        'photo': {'prefix': 'https://fastly.4sqi.net/img/user/',\n",
              "         'suffix': '/12113441-K5HTHFLU2MUCM0CM.jpg'}},\n",
              "       'visibility': 'public',\n",
              "       'width': 540},\n",
              "      'public': True,\n",
              "      'type': 'others',\n",
              "      'updatedAt': 1556754919,\n",
              "      'url': '/kinosfault/list/usa-nyc-man-fidi',\n",
              "      'user': {'firstName': 'Kino',\n",
              "       'id': '12113441',\n",
              "       'photo': {'prefix': 'https://fastly.4sqi.net/img/user/',\n",
              "        'suffix': '/12113441-K5HTHFLU2MUCM0CM.jpg'}}},\n",
              "     {'canonicalUrl': 'https://foursquare.com/rickr7/list/nyc-resturants',\n",
              "      'collaborative': True,\n",
              "      'createdAt': 1339944944,\n",
              "      'description': '',\n",
              "      'editable': False,\n",
              "      'followers': {'count': 12},\n",
              "      'id': '4fddeff0e4b0e078037ac0d3',\n",
              "      'listItems': {'count': 193,\n",
              "       'items': [{'createdAt': 1581655865,\n",
              "         'id': 'v4fa862b3e4b0ebff2f749f06'}]},\n",
              "      'name': 'NYC Resturants',\n",
              "      'photo': {'createdAt': 1349704979,\n",
              "       'height': 800,\n",
              "       'id': '5072dd13e4b09145cdf782d1',\n",
              "       'prefix': 'https://fastly.4sqi.net/img/general/',\n",
              "       'suffix': '/208205_fGh2OuAZ9qJ4agbAA5wMVNOSIm9kNUlRtNwj1N-adqg.jpg',\n",
              "       'user': {'firstName': 'Thalia',\n",
              "        'id': '208205',\n",
              "        'lastName': 'K',\n",
              "        'photo': {'prefix': 'https://fastly.4sqi.net/img/user/',\n",
              "         'suffix': '/SNOOLCAW2AG04ZKD.jpg'}},\n",
              "       'visibility': 'public',\n",
              "       'width': 800},\n",
              "      'public': True,\n",
              "      'type': 'others',\n",
              "      'updatedAt': 1591664261,\n",
              "      'url': '/rickr7/list/nyc-resturants',\n",
              "      'user': {'firstName': 'Richard',\n",
              "       'id': '21563126',\n",
              "       'lastName': 'R',\n",
              "       'photo': {'prefix': 'https://fastly.4sqi.net/img/user/',\n",
              "        'suffix': '/21563126_v05J1KPw_SVj6Ehq9g8B9jeAGjFUMsU5QGl-NZ8inUQ7pKQm5bKplW37EmR7jS2A7GYPBBAtl.jpg'}}},\n",
              "     {'canonicalUrl': 'https://foursquare.com/sweetiewill/list/foodie-love-in-ny--02',\n",
              "      'collaborative': False,\n",
              "      'createdAt': 1382467210,\n",
              "      'description': '',\n",
              "      'editable': False,\n",
              "      'followers': {'count': 7},\n",
              "      'id': '5266c68a498e7c667807fe09',\n",
              "      'listItems': {'count': 200,\n",
              "       'items': [{'createdAt': 1386809936,\n",
              "         'id': 'v4fa862b3e4b0ebff2f749f06'}]},\n",
              "      'name': 'Foodie Love in NY - 02',\n",
              "      'public': True,\n",
              "      'type': 'others',\n",
              "      'updatedAt': 1391995585,\n",
              "      'url': '/sweetiewill/list/foodie-love-in-ny--02',\n",
              "      'user': {'firstName': 'WiLL',\n",
              "       'id': '547977',\n",
              "       'photo': {'prefix': 'https://fastly.4sqi.net/img/user/',\n",
              "        'suffix': '/-Q5NYGDMFDMOITQRR.jpg'}}}],\n",
              "    'name': 'Lists from other people',\n",
              "    'type': 'others'}]},\n",
              " 'location': {'address': '225 Murray St',\n",
              "  'cc': 'US',\n",
              "  'city': 'New York',\n",
              "  'country': 'United States',\n",
              "  'formattedAddress': ['225 Murray St', 'New York, NY 10282', 'United States'],\n",
              "  'labeledLatLngs': [{'label': 'display',\n",
              "    'lat': 40.71521779064671,\n",
              "    'lng': -74.01473940209351},\n",
              "   {'label': 'entrance', 'lat': 40.715361, 'lng': -74.014975}],\n",
              "  'lat': 40.71521779064671,\n",
              "  'lng': -74.01473940209351,\n",
              "  'postalCode': '10282',\n",
              "  'state': 'NY'},\n",
              " 'menu': {'anchor': 'View Menu',\n",
              "  'label': 'Menu',\n",
              "  'mobileUrl': 'https://foursquare.com/v/4fa862b3e4b0ebff2f749f06/device_menu',\n",
              "  'type': 'Menu',\n",
              "  'url': 'https://foursquare.com/v/harrys-italian-pizza-bar/4fa862b3e4b0ebff2f749f06/menu'},\n",
              " 'name': \"Harry's Italian Pizza Bar\",\n",
              " 'ok': False,\n",
              " 'pageUpdates': {'count': 0, 'items': []},\n",
              " 'photos': {'count': 146,\n",
              "  'groups': [{'count': 146,\n",
              "    'items': [{'createdAt': 1336776717,\n",
              "      'height': 640,\n",
              "      'id': '4fad980de4b091b4626c3633',\n",
              "      'prefix': 'https://fastly.4sqi.net/img/general/',\n",
              "      'source': {'name': 'Foursquare for Android',\n",
              "       'url': 'https://foursquare.com/download/#/android'},\n",
              "      'suffix': '/ya1iQFI7pLjuIJp1PGDKlrZS3OJdHCF7tpILMmjv_2w.jpg',\n",
              "      'user': {'firstName': 'Leony',\n",
              "       'id': '13676709',\n",
              "       'lastName': 'N',\n",
              "       'photo': {'prefix': 'https://fastly.4sqi.net/img/user/',\n",
              "        'suffix': '/T0ANFNGNMCHUDEUE.jpg'}},\n",
              "      'visibility': 'public',\n",
              "      'width': 480}],\n",
              "    'name': 'Venue photos',\n",
              "    'type': 'venue'}]},\n",
              " 'popular': {'isLocalHoliday': False,\n",
              "  'isOpen': False,\n",
              "  'timeframes': [{'days': 'Today',\n",
              "    'includesToday': True,\n",
              "    'open': [{'renderedTime': 'Noon–2:00 PM'},\n",
              "     {'renderedTime': '6:00 PM–8:00 PM'}],\n",
              "    'segments': []},\n",
              "   {'days': 'Tue–Thu',\n",
              "    'open': [{'renderedTime': 'Noon–2:00 PM'},\n",
              "     {'renderedTime': '5:00 PM–10:00 PM'}],\n",
              "    'segments': []},\n",
              "   {'days': 'Fri',\n",
              "    'open': [{'renderedTime': 'Noon–3:00 PM'},\n",
              "     {'renderedTime': '5:00 PM–11:00 PM'}],\n",
              "    'segments': []},\n",
              "   {'days': 'Sat',\n",
              "    'open': [{'renderedTime': 'Noon–11:00 PM'}],\n",
              "    'segments': []},\n",
              "   {'days': 'Sun',\n",
              "    'open': [{'renderedTime': 'Noon–3:00 PM'},\n",
              "     {'renderedTime': '5:00 PM–8:00 PM'}],\n",
              "    'segments': []}]},\n",
              " 'price': {'currency': '$', 'message': 'Moderate', 'tier': 2},\n",
              " 'rating': 6.9,\n",
              " 'ratingColor': 'FFC800',\n",
              " 'ratingSignals': 212,\n",
              " 'reasons': {'count': 1,\n",
              "  'items': [{'reasonName': 'rawLikesReason',\n",
              "    'summary': 'Lots of people like this place',\n",
              "    'type': 'general'}]},\n",
              " 'seasonalHours': [],\n",
              " 'shortUrl': 'http://4sq.com/JNblHV',\n",
              " 'specials': {'count': 0, 'items': []},\n",
              " 'stats': {'tipCount': 57},\n",
              " 'timeZone': 'America/New_York',\n",
              " 'tips': {'count': 57,\n",
              "  'groups': [{'count': 57,\n",
              "    'items': [{'agreeCount': 4,\n",
              "      'canonicalUrl': 'https://foursquare.com/item/53d27909498e0523841340b6',\n",
              "      'createdAt': 1406302473,\n",
              "      'disagreeCount': 0,\n",
              "      'id': '53d27909498e0523841340b6',\n",
              "      'lang': 'en',\n",
              "      'likes': {'count': 4,\n",
              "       'groups': [{'count': 4,\n",
              "         'items': [{'firstName': 'P.',\n",
              "           'id': '369426',\n",
              "           'lastName': 'M',\n",
              "           'photo': {'prefix': 'https://fastly.4sqi.net/img/user/',\n",
              "            'suffix': '/JPQYUWJKUT0H2OO4.jpg'}},\n",
              "          {'firstName': 'Diane',\n",
              "           'id': '87587879',\n",
              "           'lastName': 'D',\n",
              "           'photo': {'prefix': 'https://fastly.4sqi.net/img/user/',\n",
              "            'suffix': '/87587879-ESLRSZLQ2CBE2P4W.jpg'}},\n",
              "          {'firstName': 'Tim',\n",
              "           'id': '87591341',\n",
              "           'lastName': 'S',\n",
              "           'photo': {'prefix': 'https://fastly.4sqi.net/img/user/',\n",
              "            'suffix': '/-Z4YK4VKE0JSVXIY1.jpg'}},\n",
              "          {'firstName': 'TenantKing.com',\n",
              "           'id': '87473404',\n",
              "           'photo': {'prefix': 'https://fastly.4sqi.net/img/user/',\n",
              "            'suffix': '/87473404-HI5DTBTK0HX401CA.png'},\n",
              "           'type': 'page'}],\n",
              "         'type': 'others'}],\n",
              "       'summary': '4 likes'},\n",
              "      'logView': True,\n",
              "      'text': \"Harry's Italian Pizza bar is known for it's amazing pizza, but did you know that the brunches here are amazing too? Try the Nutella French toast and we know you'll be sold.\",\n",
              "      'todo': {'count': 0},\n",
              "      'type': 'user',\n",
              "      'user': {'firstName': 'TenantKing.com',\n",
              "       'id': '87473404',\n",
              "       'photo': {'prefix': 'https://fastly.4sqi.net/img/user/',\n",
              "        'suffix': '/87473404-HI5DTBTK0HX401CA.png'},\n",
              "       'type': 'page'}}],\n",
              "    'name': 'All tips',\n",
              "    'type': 'others'}]},\n",
              " 'url': 'http://harrysitalian.com',\n",
              " 'verified': False}"
            ]
          },
          "metadata": {
            "tags": []
          },
          "execution_count": 26
        }
      ]
    },
    {
      "cell_type": "markdown",
      "metadata": {
        "button": false,
        "deletable": true,
        "new_sheet": false,
        "run_control": {
          "read_only": false
        },
        "id": "I6nA3uT-lC3q",
        "colab_type": "text"
      },
      "source": [
        "### B. Get the venue's overall rating"
      ]
    },
    {
      "cell_type": "code",
      "metadata": {
        "button": false,
        "deletable": true,
        "new_sheet": false,
        "run_control": {
          "read_only": false
        },
        "id": "9He6GrPblC3q",
        "colab_type": "code",
        "colab": {
          "base_uri": "https://localhost:8080/",
          "height": 34
        },
        "outputId": "b2e72f5b-3ed8-4322-a321-3b6e37bfdf34"
      },
      "source": [
        "try:\n",
        "    print(result['response']['venue']['rating'])\n",
        "except:\n",
        "    print('This venue has not been rated yet.')"
      ],
      "execution_count": 27,
      "outputs": [
        {
          "output_type": "stream",
          "text": [
            "6.9\n"
          ],
          "name": "stdout"
        }
      ]
    },
    {
      "cell_type": "markdown",
      "metadata": {
        "button": false,
        "deletable": true,
        "new_sheet": false,
        "run_control": {
          "read_only": false
        },
        "id": "bfkpoHoQlC3s",
        "colab_type": "text"
      },
      "source": [
        "That is not a very good rating. Let's check the rating of the second closest Italian restaurant."
      ]
    },
    {
      "cell_type": "code",
      "metadata": {
        "button": false,
        "deletable": true,
        "new_sheet": false,
        "run_control": {
          "read_only": false
        },
        "id": "-ioiBvGclC3t",
        "colab_type": "code",
        "colab": {
          "base_uri": "https://localhost:8080/",
          "height": 34
        },
        "outputId": "dea8c2f7-b892-4ce6-9e7e-f284f093611b"
      },
      "source": [
        "venue_id = '4f3232e219836c91c7bfde94' # ID of Conca Cucina Italian Restaurant\n",
        "url = 'https://api.foursquare.com/v2/venues/{}?client_id={}&client_secret={}&v={}'.format(venue_id, CLIENT_ID, CLIENT_SECRET, VERSION)\n",
        "\n",
        "result = requests.get(url).json()\n",
        "try:\n",
        "    print(result['response']['venue']['rating'])\n",
        "except:\n",
        "    print('This venue has not been rated yet.')"
      ],
      "execution_count": 28,
      "outputs": [
        {
          "output_type": "stream",
          "text": [
            "This venue has not been rated yet.\n"
          ],
          "name": "stdout"
        }
      ]
    },
    {
      "cell_type": "markdown",
      "metadata": {
        "button": false,
        "deletable": true,
        "new_sheet": false,
        "run_control": {
          "read_only": false
        },
        "id": "JagRln4OlC3v",
        "colab_type": "text"
      },
      "source": [
        "Since this restaurant has no ratings, let's check the third restaurant."
      ]
    },
    {
      "cell_type": "code",
      "metadata": {
        "button": false,
        "deletable": true,
        "new_sheet": false,
        "run_control": {
          "read_only": false
        },
        "id": "NYBwgpoblC3w",
        "colab_type": "code",
        "colab": {
          "base_uri": "https://localhost:8080/",
          "height": 34
        },
        "outputId": "4a0bdb48-d30f-4d90-b788-1a2567a3e7ee"
      },
      "source": [
        "venue_id = '3fd66200f964a520f4e41ee3' # ID of Ecco\n",
        "url = 'https://api.foursquare.com/v2/venues/{}?client_id={}&client_secret={}&v={}'.format(venue_id, CLIENT_ID, CLIENT_SECRET, VERSION)\n",
        "\n",
        "result = requests.get(url).json()\n",
        "try:\n",
        "    print(result['response']['venue']['rating'])\n",
        "except:\n",
        "    print('This venue has not been rated yet.')"
      ],
      "execution_count": 30,
      "outputs": [
        {
          "output_type": "stream",
          "text": [
            "7.3\n"
          ],
          "name": "stdout"
        }
      ]
    },
    {
      "cell_type": "markdown",
      "metadata": {
        "button": false,
        "deletable": true,
        "new_sheet": false,
        "run_control": {
          "read_only": false
        },
        "id": "HoHw_OtAlC3x",
        "colab_type": "text"
      },
      "source": [
        "Since this restaurant has a slightly better rating, let's explore it further."
      ]
    },
    {
      "cell_type": "markdown",
      "metadata": {
        "button": false,
        "deletable": true,
        "new_sheet": false,
        "run_control": {
          "read_only": false
        },
        "id": "BnsMGkHylC3y",
        "colab_type": "text"
      },
      "source": [
        "### C. Get the number of tips"
      ]
    },
    {
      "cell_type": "code",
      "metadata": {
        "button": false,
        "deletable": true,
        "new_sheet": false,
        "run_control": {
          "read_only": false
        },
        "id": "YCK_9I5ElC3y",
        "colab_type": "code",
        "colab": {
          "base_uri": "https://localhost:8080/",
          "height": 34
        },
        "outputId": "0add0a4f-3d44-42a1-fdf9-641e7fc5ca80"
      },
      "source": [
        "result['response']['venue']['tips']['count']"
      ],
      "execution_count": 31,
      "outputs": [
        {
          "output_type": "execute_result",
          "data": {
            "text/plain": [
              "19"
            ]
          },
          "metadata": {
            "tags": []
          },
          "execution_count": 31
        }
      ]
    },
    {
      "cell_type": "markdown",
      "metadata": {
        "button": false,
        "deletable": true,
        "new_sheet": false,
        "run_control": {
          "read_only": false
        },
        "id": "LY8hBsCelC31",
        "colab_type": "text"
      },
      "source": [
        "### D. Get the venue's tips\n",
        "> `https://api.foursquare.com/v2/venues/`**VENUE_ID**`/tips?client_id=`**CLIENT_ID**`&client_secret=`**CLIENT_SECRET**`&v=`**VERSION**`&limit=`**LIMIT**"
      ]
    },
    {
      "cell_type": "markdown",
      "metadata": {
        "button": false,
        "deletable": true,
        "new_sheet": false,
        "run_control": {
          "read_only": false
        },
        "id": "nF1QMPDElC32",
        "colab_type": "text"
      },
      "source": [
        "#### Create URL and send GET request. Make sure to set limit to get all tips"
      ]
    },
    {
      "cell_type": "code",
      "metadata": {
        "button": false,
        "deletable": true,
        "new_sheet": false,
        "run_control": {
          "read_only": false
        },
        "id": "gvDbmzGelC32",
        "colab_type": "code",
        "colab": {}
      },
      "source": [
        "## Ecco Tips\n",
        "limit = 15 # set limit to be greater than or equal to the total number of tips\n",
        "url = 'https://api.foursquare.com/v2/venues/{}/tips?client_id={}&client_secret={}&v={}&limit={}'.format(venue_id, CLIENT_ID, CLIENT_SECRET, VERSION, limit)\n",
        "\n",
        "results = requests.get(url).json()\n",
        "results"
      ],
      "execution_count": null,
      "outputs": []
    },
    {
      "cell_type": "markdown",
      "metadata": {
        "button": false,
        "deletable": true,
        "new_sheet": false,
        "run_control": {
          "read_only": false
        },
        "id": "fdYjlOJ2lC33",
        "colab_type": "text"
      },
      "source": [
        "#### Get tips and list of associated features"
      ]
    },
    {
      "cell_type": "code",
      "metadata": {
        "button": false,
        "deletable": true,
        "new_sheet": false,
        "run_control": {
          "read_only": false
        },
        "id": "BPL9BXsulC34",
        "colab_type": "code",
        "colab": {}
      },
      "source": [
        "tips = results['response']['tips']['items']\n",
        "\n",
        "tip = results['response']['tips']['items'][0]\n",
        "tip.keys()"
      ],
      "execution_count": null,
      "outputs": []
    },
    {
      "cell_type": "markdown",
      "metadata": {
        "button": false,
        "deletable": true,
        "new_sheet": false,
        "run_control": {
          "read_only": false
        },
        "id": "Vv-AxFhglC36",
        "colab_type": "text"
      },
      "source": [
        "#### Format column width and display all tips"
      ]
    },
    {
      "cell_type": "code",
      "metadata": {
        "button": false,
        "deletable": true,
        "new_sheet": false,
        "run_control": {
          "read_only": false
        },
        "scrolled": false,
        "id": "JUfsH84tlC36",
        "colab_type": "code",
        "colab": {}
      },
      "source": [
        "pd.set_option('display.max_colwidth', -1)\n",
        "\n",
        "tips_df = json_normalize(tips) # json normalize tips\n",
        "\n",
        "# columns to keep\n",
        "filtered_columns = ['text', 'agreeCount', 'disagreeCount', 'id', 'user.firstName', 'user.lastName', 'user.gender', 'user.id']\n",
        "tips_filtered = tips_df.loc[:, filtered_columns]\n",
        "\n",
        "# display tips\n",
        "tips_filtered"
      ],
      "execution_count": null,
      "outputs": []
    },
    {
      "cell_type": "markdown",
      "metadata": {
        "button": false,
        "deletable": true,
        "new_sheet": false,
        "run_control": {
          "read_only": false
        },
        "id": "YPrapeMUlC39",
        "colab_type": "text"
      },
      "source": [
        "Now remember that because we are using a personal developer account, then we can access only 2 of the restaurant's tips, instead of all 15 tips."
      ]
    },
    {
      "cell_type": "markdown",
      "metadata": {
        "button": false,
        "deletable": true,
        "new_sheet": false,
        "run_control": {
          "read_only": false
        },
        "id": "xX-cHqZhlC39",
        "colab_type": "text"
      },
      "source": [
        "   "
      ]
    },
    {
      "cell_type": "markdown",
      "metadata": {
        "button": false,
        "deletable": true,
        "new_sheet": false,
        "run_control": {
          "read_only": false
        },
        "id": "jfvhi_bTlC39",
        "colab_type": "text"
      },
      "source": [
        "<a id=\"item3\"></a>"
      ]
    },
    {
      "cell_type": "markdown",
      "metadata": {
        "button": false,
        "deletable": true,
        "new_sheet": false,
        "run_control": {
          "read_only": false
        },
        "id": "nMs-Mj5xlC39",
        "colab_type": "text"
      },
      "source": [
        "## 3. Search a Foursquare User\n",
        "> `https://api.foursquare.com/v2/users/`**USER_ID**`?client_id=`**CLIENT_ID**`&client_secret=`**CLIENT_SECRET**`&v=`**VERSION**"
      ]
    },
    {
      "cell_type": "markdown",
      "metadata": {
        "button": false,
        "deletable": true,
        "new_sheet": false,
        "run_control": {
          "read_only": false
        },
        "id": "JhMDnraZlC3-",
        "colab_type": "text"
      },
      "source": [
        "### Define URL, send GET request and display features associated with user"
      ]
    },
    {
      "cell_type": "code",
      "metadata": {
        "button": false,
        "deletable": true,
        "new_sheet": false,
        "run_control": {
          "read_only": false
        },
        "id": "1WVHJAk4lC3-",
        "colab_type": "code",
        "colab": {}
      },
      "source": [
        "user_id = '484542633' # user ID with most agree counts and complete profile\n",
        "\n",
        "url = 'https://api.foursquare.com/v2/users/{}?client_id={}&client_secret={}&v={}'.format(user_id, CLIENT_ID, CLIENT_SECRET, VERSION) # define URL\n",
        "\n",
        "# send GET request\n",
        "results = requests.get(url).json()\n",
        "user_data = results['response']['user']\n",
        "\n",
        "# display features associated with user\n",
        "user_data.keys()"
      ],
      "execution_count": null,
      "outputs": []
    },
    {
      "cell_type": "code",
      "metadata": {
        "button": false,
        "deletable": true,
        "new_sheet": false,
        "run_control": {
          "read_only": false
        },
        "id": "n0KO1FCXlC4A",
        "colab_type": "code",
        "colab": {}
      },
      "source": [
        "print('First Name: ' + user_data['firstName'])\n",
        "print('Last Name: ' + user_data['lastName'])\n",
        "print('Home City: ' + user_data['homeCity'])"
      ],
      "execution_count": null,
      "outputs": []
    },
    {
      "cell_type": "markdown",
      "metadata": {
        "button": false,
        "deletable": true,
        "new_sheet": false,
        "run_control": {
          "read_only": false
        },
        "id": "car3_HhrlC4B",
        "colab_type": "text"
      },
      "source": [
        "#### How many tips has this user submitted?"
      ]
    },
    {
      "cell_type": "code",
      "metadata": {
        "button": false,
        "deletable": true,
        "new_sheet": false,
        "run_control": {
          "read_only": false
        },
        "id": "aqkRMIlMlC4C",
        "colab_type": "code",
        "colab": {}
      },
      "source": [
        "user_data['tips']"
      ],
      "execution_count": null,
      "outputs": []
    },
    {
      "cell_type": "markdown",
      "metadata": {
        "button": false,
        "deletable": true,
        "new_sheet": false,
        "run_control": {
          "read_only": false
        },
        "id": "zt8Dpi7zlC4D",
        "colab_type": "text"
      },
      "source": [
        "Wow! So it turns out that Nick is a very active Foursquare user, with more than 250 tips."
      ]
    },
    {
      "cell_type": "markdown",
      "metadata": {
        "button": false,
        "deletable": true,
        "new_sheet": false,
        "run_control": {
          "read_only": false
        },
        "id": "jZCdMpeGlC4D",
        "colab_type": "text"
      },
      "source": [
        "### Get User's tips"
      ]
    },
    {
      "cell_type": "code",
      "metadata": {
        "button": false,
        "deletable": true,
        "new_sheet": false,
        "run_control": {
          "read_only": false
        },
        "scrolled": false,
        "id": "_qQg0QS9lC4E",
        "colab_type": "code",
        "colab": {}
      },
      "source": [
        "# define tips URL\n",
        "url = 'https://api.foursquare.com/v2/users/{}/tips?client_id={}&client_secret={}&v={}&limit={}'.format(user_id, CLIENT_ID, CLIENT_SECRET, VERSION, limit)\n",
        "\n",
        "# send GET request and get user's tips\n",
        "results = requests.get(url).json()\n",
        "tips = results['response']['tips']['items']\n",
        "\n",
        "# format column width\n",
        "pd.set_option('display.max_colwidth', -1)\n",
        "\n",
        "tips_df = json_normalize(tips)\n",
        "\n",
        "# filter columns\n",
        "filtered_columns = ['text', 'agreeCount', 'disagreeCount', 'id']\n",
        "tips_filtered = tips_df.loc[:, filtered_columns]\n",
        "\n",
        "# display user's tips\n",
        "tips_filtered"
      ],
      "execution_count": null,
      "outputs": []
    },
    {
      "cell_type": "markdown",
      "metadata": {
        "button": false,
        "deletable": true,
        "new_sheet": false,
        "run_control": {
          "read_only": false
        },
        "id": "lT0wQYHOlC4G",
        "colab_type": "text"
      },
      "source": [
        "#### Let's get the venue for the tip with the greatest number of agree counts"
      ]
    },
    {
      "cell_type": "code",
      "metadata": {
        "button": false,
        "deletable": true,
        "new_sheet": false,
        "run_control": {
          "read_only": false
        },
        "id": "wVCifILWlC4H",
        "colab_type": "code",
        "colab": {}
      },
      "source": [
        "tip_id = '5ab5575d73fe2516ad8f363b' # tip id\n",
        "\n",
        "# define URL\n",
        "url = 'http://api.foursquare.com/v2/tips/{}?client_id={}&client_secret={}&v={}'.format(tip_id, CLIENT_ID, CLIENT_SECRET, VERSION)\n",
        "\n",
        "# send GET Request and examine results\n",
        "result = requests.get(url).json()\n",
        "print(result['response']['tip']['venue']['name'])\n",
        "print(result['response']['tip']['venue']['location'])"
      ],
      "execution_count": null,
      "outputs": []
    },
    {
      "cell_type": "markdown",
      "metadata": {
        "button": false,
        "deletable": true,
        "new_sheet": false,
        "run_control": {
          "read_only": false
        },
        "id": "kHasIubDlC4I",
        "colab_type": "text"
      },
      "source": [
        "### Get User's friends"
      ]
    },
    {
      "cell_type": "code",
      "metadata": {
        "button": false,
        "deletable": true,
        "new_sheet": false,
        "run_control": {
          "read_only": false
        },
        "scrolled": false,
        "id": "t1We6i0dlC4I",
        "colab_type": "code",
        "colab": {}
      },
      "source": [
        "user_friends = json_normalize(user_data['friends']['groups'][0]['items'])\n",
        "user_friends"
      ],
      "execution_count": null,
      "outputs": []
    },
    {
      "cell_type": "markdown",
      "metadata": {
        "button": false,
        "deletable": true,
        "new_sheet": false,
        "run_control": {
          "read_only": false
        },
        "id": "BRz1-SnhlC4K",
        "colab_type": "text"
      },
      "source": [
        "Interesting. Despite being very active, it turns out that Nick does not have any friends on Foursquare. This might definitely change in the future."
      ]
    },
    {
      "cell_type": "markdown",
      "metadata": {
        "button": false,
        "deletable": true,
        "new_sheet": false,
        "run_control": {
          "read_only": false
        },
        "id": "xOX_4tQElC4K",
        "colab_type": "text"
      },
      "source": [
        "### Retrieve the User's Profile Image"
      ]
    },
    {
      "cell_type": "code",
      "metadata": {
        "button": false,
        "deletable": true,
        "new_sheet": false,
        "run_control": {
          "read_only": false
        },
        "scrolled": true,
        "id": "eZx0RGcslC4L",
        "colab_type": "code",
        "colab": {}
      },
      "source": [
        "user_data"
      ],
      "execution_count": null,
      "outputs": []
    },
    {
      "cell_type": "code",
      "metadata": {
        "button": false,
        "deletable": true,
        "new_sheet": false,
        "run_control": {
          "read_only": false
        },
        "id": "iop6k79XlC4M",
        "colab_type": "code",
        "colab": {}
      },
      "source": [
        "# 1. grab prefix of photo\n",
        "# 2. grab suffix of photo\n",
        "# 3. concatenate them using the image size  \n",
        "Image(url='https://igx.4sqi.net/img/user/300x300/484542633_mK2Yum7T_7Tn9fWpndidJsmw2Hof_6T5vJBKCHPLMK5OL-U5ZiJGj51iwBstcpDLYa3Zvhvis.jpg')"
      ],
      "execution_count": null,
      "outputs": []
    },
    {
      "cell_type": "markdown",
      "metadata": {
        "button": false,
        "deletable": true,
        "new_sheet": false,
        "run_control": {
          "read_only": false
        },
        "id": "FHliszAIlC4N",
        "colab_type": "text"
      },
      "source": [
        "  "
      ]
    },
    {
      "cell_type": "markdown",
      "metadata": {
        "button": false,
        "deletable": true,
        "new_sheet": false,
        "run_control": {
          "read_only": false
        },
        "id": "mYNYOThGlC4O",
        "colab_type": "text"
      },
      "source": [
        "<a id=\"item4\"></a>"
      ]
    },
    {
      "cell_type": "markdown",
      "metadata": {
        "button": false,
        "deletable": true,
        "new_sheet": false,
        "run_control": {
          "read_only": false
        },
        "id": "txwm5eIflC4O",
        "colab_type": "text"
      },
      "source": [
        "## 4. Explore a location\n",
        "> `https://api.foursquare.com/v2/venues/`**explore**`?client_id=`**CLIENT_ID**`&client_secret=`**CLIENT_SECRET**`&ll=`**LATITUDE**`,`**LONGITUDE**`&v=`**VERSION**`&limit=`**LIMIT**"
      ]
    },
    {
      "cell_type": "markdown",
      "metadata": {
        "button": false,
        "deletable": true,
        "new_sheet": false,
        "run_control": {
          "read_only": false
        },
        "id": "eZ9oBfqjlC4O",
        "colab_type": "text"
      },
      "source": [
        "#### So, you just finished your gourmet dish at Ecco, and are just curious about the popular spots around the restaurant. In order to explore the area, let's start by getting the latitude and longitude values of Ecco Restaurant."
      ]
    },
    {
      "cell_type": "code",
      "metadata": {
        "button": false,
        "collapsed": true,
        "deletable": true,
        "new_sheet": false,
        "run_control": {
          "read_only": false
        },
        "id": "u2mE7dr5lC4O",
        "colab_type": "code",
        "colab": {}
      },
      "source": [
        "latitude = 40.715337\n",
        "longitude = -74.008848"
      ],
      "execution_count": null,
      "outputs": []
    },
    {
      "cell_type": "markdown",
      "metadata": {
        "button": false,
        "deletable": true,
        "new_sheet": false,
        "run_control": {
          "read_only": false
        },
        "id": "8CW-BzESlC4R",
        "colab_type": "text"
      },
      "source": [
        "#### Define URL"
      ]
    },
    {
      "cell_type": "code",
      "metadata": {
        "button": false,
        "deletable": true,
        "new_sheet": false,
        "run_control": {
          "read_only": false
        },
        "id": "cgRkQvFFlC4R",
        "colab_type": "code",
        "colab": {}
      },
      "source": [
        "url = 'https://api.foursquare.com/v2/venues/explore?client_id={}&client_secret={}&ll={},{}&v={}&radius={}&limit={}'.format(CLIENT_ID, CLIENT_SECRET, latitude, longitude, VERSION, radius, LIMIT)\n",
        "url"
      ],
      "execution_count": null,
      "outputs": []
    },
    {
      "cell_type": "markdown",
      "metadata": {
        "button": false,
        "deletable": true,
        "new_sheet": false,
        "run_control": {
          "read_only": false
        },
        "id": "JbBd-656lC4T",
        "colab_type": "text"
      },
      "source": [
        "#### Send GET request and examine results"
      ]
    },
    {
      "cell_type": "code",
      "metadata": {
        "button": false,
        "collapsed": true,
        "deletable": true,
        "new_sheet": false,
        "run_control": {
          "read_only": false
        },
        "id": "XsJQs_8WlC4U",
        "colab_type": "code",
        "colab": {}
      },
      "source": [
        "import requests"
      ],
      "execution_count": null,
      "outputs": []
    },
    {
      "cell_type": "code",
      "metadata": {
        "button": false,
        "deletable": true,
        "new_sheet": false,
        "run_control": {
          "read_only": false
        },
        "id": "SVkVyxRelC4V",
        "colab_type": "code",
        "colab": {}
      },
      "source": [
        "results = requests.get(url).json()\n",
        "'There are {} around Ecco restaurant.'.format(len(results['response']['groups'][0]['items']))"
      ],
      "execution_count": null,
      "outputs": []
    },
    {
      "cell_type": "markdown",
      "metadata": {
        "button": false,
        "deletable": true,
        "new_sheet": false,
        "run_control": {
          "read_only": false
        },
        "id": "LKIV9DyqlC4W",
        "colab_type": "text"
      },
      "source": [
        "#### Get relevant part of JSON"
      ]
    },
    {
      "cell_type": "code",
      "metadata": {
        "button": false,
        "deletable": true,
        "new_sheet": false,
        "run_control": {
          "read_only": false
        },
        "id": "CENmT_oHlC4W",
        "colab_type": "code",
        "colab": {}
      },
      "source": [
        "items = results['response']['groups'][0]['items']\n",
        "items[0]"
      ],
      "execution_count": null,
      "outputs": []
    },
    {
      "cell_type": "markdown",
      "metadata": {
        "button": false,
        "deletable": true,
        "new_sheet": false,
        "run_control": {
          "read_only": false
        },
        "id": "VjENVyWilC4X",
        "colab_type": "text"
      },
      "source": [
        "#### Process JSON and convert it to a clean dataframe"
      ]
    },
    {
      "cell_type": "code",
      "metadata": {
        "button": false,
        "deletable": true,
        "new_sheet": false,
        "run_control": {
          "read_only": false
        },
        "scrolled": false,
        "id": "uvtux-wllC4X",
        "colab_type": "code",
        "colab": {}
      },
      "source": [
        "dataframe = json_normalize(items) # flatten JSON\n",
        "\n",
        "# filter columns\n",
        "filtered_columns = ['venue.name', 'venue.categories'] + [col for col in dataframe.columns if col.startswith('venue.location.')] + ['venue.id']\n",
        "dataframe_filtered = dataframe.loc[:, filtered_columns]\n",
        "\n",
        "# filter the category for each row\n",
        "dataframe_filtered['venue.categories'] = dataframe_filtered.apply(get_category_type, axis=1)\n",
        "\n",
        "# clean columns\n",
        "dataframe_filtered.columns = [col.split('.')[-1] for col in dataframe_filtered.columns]\n",
        "\n",
        "dataframe_filtered.head(10)"
      ],
      "execution_count": null,
      "outputs": []
    },
    {
      "cell_type": "markdown",
      "metadata": {
        "button": false,
        "deletable": true,
        "new_sheet": false,
        "run_control": {
          "read_only": false
        },
        "id": "nQyXv6vklC4b",
        "colab_type": "text"
      },
      "source": [
        "#### Let's visualize these items on the map around our location"
      ]
    },
    {
      "cell_type": "code",
      "metadata": {
        "button": false,
        "deletable": true,
        "new_sheet": false,
        "run_control": {
          "read_only": false
        },
        "id": "r5Hf79UtlC4b",
        "colab_type": "code",
        "colab": {}
      },
      "source": [
        "venues_map = folium.Map(location=[latitude, longitude], zoom_start=15) # generate map centred around Ecco\n",
        "\n",
        "\n",
        "# add Ecco as a red circle mark\n",
        "folium.features.CircleMarker(\n",
        "    [latitude, longitude],\n",
        "    radius=10,\n",
        "    popup='Ecco',\n",
        "    fill=True,\n",
        "    color='red',\n",
        "    fill_color='red',\n",
        "    fill_opacity=0.6\n",
        "    ).add_to(venues_map)\n",
        "\n",
        "\n",
        "# add popular spots to the map as blue circle markers\n",
        "for lat, lng, label in zip(dataframe_filtered.lat, dataframe_filtered.lng, dataframe_filtered.categories):\n",
        "    folium.features.CircleMarker(\n",
        "        [lat, lng],\n",
        "        radius=5,\n",
        "        popup=label,\n",
        "        fill=True,\n",
        "        color='blue',\n",
        "        fill_color='blue',\n",
        "        fill_opacity=0.6\n",
        "        ).add_to(venues_map)\n",
        "\n",
        "# display map\n",
        "venues_map"
      ],
      "execution_count": null,
      "outputs": []
    },
    {
      "cell_type": "markdown",
      "metadata": {
        "button": false,
        "deletable": true,
        "new_sheet": false,
        "run_control": {
          "read_only": false
        },
        "id": "PLiFphR7lC4d",
        "colab_type": "text"
      },
      "source": [
        "   "
      ]
    },
    {
      "cell_type": "markdown",
      "metadata": {
        "button": false,
        "deletable": true,
        "new_sheet": false,
        "run_control": {
          "read_only": false
        },
        "id": "_cFOBG16lC4d",
        "colab_type": "text"
      },
      "source": [
        "<a id=\"item5\"></a>"
      ]
    },
    {
      "cell_type": "markdown",
      "metadata": {
        "button": false,
        "deletable": true,
        "new_sheet": false,
        "run_control": {
          "read_only": false
        },
        "id": "PPcPc41FlC4e",
        "colab_type": "text"
      },
      "source": [
        "## 5. Explore Trending Venues\n",
        "> `https://api.foursquare.com/v2/venues/`**trending**`?client_id=`**CLIENT_ID**`&client_secret=`**CLIENT_SECRET**`&ll=`**LATITUDE**`,`**LONGITUDE**`&v=`**VERSION**"
      ]
    },
    {
      "cell_type": "markdown",
      "metadata": {
        "button": false,
        "deletable": true,
        "new_sheet": false,
        "run_control": {
          "read_only": false
        },
        "id": "Z1ndxxgrlC4e",
        "colab_type": "text"
      },
      "source": [
        "#### Now, instead of simply exploring the area around Ecco, you are interested in knowing the venues that are trending at the time you are done with your lunch, meaning the places with the highest foot traffic. So let's do that and get the trending venues around Ecco."
      ]
    },
    {
      "cell_type": "code",
      "metadata": {
        "button": false,
        "deletable": true,
        "new_sheet": false,
        "run_control": {
          "read_only": false
        },
        "id": "a-SWrFqilC4e",
        "colab_type": "code",
        "colab": {}
      },
      "source": [
        "# define URL\n",
        "url = 'https://api.foursquare.com/v2/venues/trending?client_id={}&client_secret={}&ll={},{}&v={}'.format(CLIENT_ID, CLIENT_SECRET, latitude, longitude, VERSION)\n",
        "\n",
        "# send GET request and get trending venues\n",
        "results = requests.get(url).json()\n",
        "results"
      ],
      "execution_count": null,
      "outputs": []
    },
    {
      "cell_type": "markdown",
      "metadata": {
        "button": false,
        "deletable": true,
        "new_sheet": false,
        "run_control": {
          "read_only": false
        },
        "id": "CupsofxClC4g",
        "colab_type": "text"
      },
      "source": [
        "### Check if any venues are trending at this time"
      ]
    },
    {
      "cell_type": "code",
      "metadata": {
        "button": false,
        "deletable": true,
        "new_sheet": false,
        "run_control": {
          "read_only": false
        },
        "id": "UGaDGZPdlC4g",
        "colab_type": "code",
        "colab": {}
      },
      "source": [
        "if len(results['response']['venues']) == 0:\n",
        "    trending_venues_df = 'No trending venues are available at the moment!'\n",
        "    \n",
        "else:\n",
        "    trending_venues = results['response']['venues']\n",
        "    trending_venues_df = json_normalize(trending_venues)\n",
        "\n",
        "    # filter columns\n",
        "    columns_filtered = ['name', 'categories'] + ['location.distance', 'location.city', 'location.postalCode', 'location.state', 'location.country', 'location.lat', 'location.lng']\n",
        "    trending_venues_df = trending_venues_df.loc[:, columns_filtered]\n",
        "\n",
        "    # filter the category for each row\n",
        "    trending_venues_df['categories'] = trending_venues_df.apply(get_category_type, axis=1)"
      ],
      "execution_count": null,
      "outputs": []
    },
    {
      "cell_type": "code",
      "metadata": {
        "button": false,
        "deletable": true,
        "new_sheet": false,
        "run_control": {
          "read_only": false
        },
        "id": "We8vb_O-lC4h",
        "colab_type": "code",
        "colab": {}
      },
      "source": [
        "# display trending venues\n",
        "trending_venues_df"
      ],
      "execution_count": null,
      "outputs": []
    },
    {
      "cell_type": "markdown",
      "metadata": {
        "button": false,
        "deletable": true,
        "new_sheet": false,
        "run_control": {
          "read_only": false
        },
        "id": "9ZduYGnzlC4i",
        "colab_type": "text"
      },
      "source": [
        "Now, depending on when you run the above code, you might get different venues since the venues with the highest foot traffic are fetched live. "
      ]
    },
    {
      "cell_type": "markdown",
      "metadata": {
        "button": false,
        "deletable": true,
        "new_sheet": false,
        "run_control": {
          "read_only": false
        },
        "id": "wYog1YWPlC4i",
        "colab_type": "text"
      },
      "source": [
        "### Visualize trending venues"
      ]
    },
    {
      "cell_type": "code",
      "metadata": {
        "button": false,
        "deletable": true,
        "new_sheet": false,
        "run_control": {
          "read_only": false
        },
        "id": "IrY5nUKRlC4i",
        "colab_type": "code",
        "colab": {}
      },
      "source": [
        "if len(results['response']['venues']) == 0:\n",
        "    venues_map = 'Cannot generate visual as no trending venues are available at the moment!'\n",
        "\n",
        "else:\n",
        "    venues_map = folium.Map(location=[latitude, longitude], zoom_start=15) # generate map centred around Ecco\n",
        "\n",
        "\n",
        "    # add Ecco as a red circle mark\n",
        "    folium.features.CircleMarker(\n",
        "        [latitude, longitude],\n",
        "        radius=10,\n",
        "        popup='Ecco',\n",
        "        fill=True,\n",
        "        color='red',\n",
        "        fill_color='red',\n",
        "        fill_opacity=0.6\n",
        "    ).add_to(venues_map)\n",
        "\n",
        "\n",
        "    # add the trending venues as blue circle markers\n",
        "    for lat, lng, label in zip(trending_venues_df['location.lat'], trending_venues_df['location.lng'], trending_venues_df['name']):\n",
        "        folium.features.CircleMarker(\n",
        "            [lat, lng],\n",
        "            radius=5,\n",
        "            poup=label,\n",
        "            fill=True,\n",
        "            color='blue',\n",
        "            fill_color='blue',\n",
        "            fill_opacity=0.6\n",
        "        ).add_to(venues_map)"
      ],
      "execution_count": null,
      "outputs": []
    },
    {
      "cell_type": "code",
      "metadata": {
        "button": false,
        "deletable": true,
        "new_sheet": false,
        "run_control": {
          "read_only": false
        },
        "scrolled": false,
        "id": "mgJaRMENlC4j",
        "colab_type": "code",
        "colab": {}
      },
      "source": [
        "# display map\n",
        "venues_map"
      ],
      "execution_count": null,
      "outputs": []
    },
    {
      "cell_type": "markdown",
      "metadata": {
        "button": false,
        "deletable": true,
        "new_sheet": false,
        "run_control": {
          "read_only": false
        },
        "id": "Q_jJSPb-lC4l",
        "colab_type": "text"
      },
      "source": [
        "<a id=\"item6\"></a>"
      ]
    },
    {
      "cell_type": "markdown",
      "metadata": {
        "button": false,
        "deletable": true,
        "new_sheet": false,
        "run_control": {
          "read_only": false
        },
        "id": "qv9AFEK8lC4l",
        "colab_type": "text"
      },
      "source": [
        "   "
      ]
    },
    {
      "cell_type": "markdown",
      "metadata": {
        "button": false,
        "deletable": true,
        "new_sheet": false,
        "run_control": {
          "read_only": false
        },
        "id": "VC2R4UMulC4l",
        "colab_type": "text"
      },
      "source": [
        "### Thank you for completing this lab!\n",
        "\n",
        "This notebook was created by [Alex Aklson](https://www.linkedin.com/in/aklson/). I hope you found this lab interesting and educational. Feel free to contact me if you have any questions!"
      ]
    },
    {
      "cell_type": "markdown",
      "metadata": {
        "button": false,
        "deletable": true,
        "new_sheet": false,
        "run_control": {
          "read_only": false
        },
        "id": "Ip6FkM5xlC4l",
        "colab_type": "text"
      },
      "source": [
        "This notebook is part of a course on **Coursera** called *Applied Data Science Capstone*. If you accessed this notebook outside the course, you can take this course online by clicking [here](http://cocl.us/DP0701EN_Coursera_Week2_LAB1)."
      ]
    },
    {
      "cell_type": "markdown",
      "metadata": {
        "button": false,
        "deletable": true,
        "new_sheet": false,
        "run_control": {
          "read_only": false
        },
        "id": "JXhwT7EplC4l",
        "colab_type": "text"
      },
      "source": [
        "<hr>\n",
        "Copyright &copy; 2018 [Cognitive Class](https://cognitiveclass.ai/?utm_source=bducopyrightlink&utm_medium=dswb&utm_campaign=bdu). This notebook and its source code are released under the terms of the [MIT License](https://bigdatauniversity.com/mit-license/)."
      ]
    }
  ]
}